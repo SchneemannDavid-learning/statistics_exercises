{
 "cells": [
  {
   "cell_type": "markdown",
   "id": "9526f13e",
   "metadata": {},
   "source": [
    "## Probability Distributions Exercises"
   ]
  },
  {
   "cell_type": "code",
   "execution_count": 1,
   "id": "e3b8e1d9",
   "metadata": {},
   "outputs": [],
   "source": [
    "import matplotlib.pyplot as plt\n",
    "import numpy as np\n",
    "import pandas as pd\n",
    "from scipy import stats"
   ]
  },
  {
   "cell_type": "markdown",
   "id": "38013cb4",
   "metadata": {},
   "source": [
    "### 1. A bank found that the average number of cars waiting during the noon hour at a drive-up window follows a Poisson distribution with a mean of 2 cars. Make a chart of this distribution and answer these questions concerning the probability of cars waiting at the drive-up window.\n",
    "\n",
    "- What is the probability that no cars drive up in the noon hour?\n",
    "- What is the probability that 3 or more cars come through the drive through?\n",
    "- How likely is it that the drive through gets at least 1 car?\n"
   ]
  },
  {
   "cell_type": "code",
   "execution_count": 2,
   "id": "5c76d955",
   "metadata": {},
   "outputs": [],
   "source": [
    "λ = 2\n",
    "cars = stats.poisson(λ)"
   ]
  },
  {
   "cell_type": "code",
   "execution_count": 3,
   "id": "67e98416",
   "metadata": {},
   "outputs": [
    {
     "data": {
      "text/plain": [
       "0.1353352832366127"
      ]
     },
     "execution_count": 3,
     "metadata": {},
     "output_type": "execute_result"
    }
   ],
   "source": [
    "cars.pmf(0)"
   ]
  },
  {
   "cell_type": "code",
   "execution_count": null,
   "id": "ed9ab022",
   "metadata": {},
   "outputs": [],
   "source": [
    "# Prob no cars drive up: 0.135"
   ]
  },
  {
   "cell_type": "code",
   "execution_count": 4,
   "id": "511b6537",
   "metadata": {},
   "outputs": [
    {
     "data": {
      "text/plain": [
       "0.857123460498547"
      ]
     },
     "execution_count": 4,
     "metadata": {},
     "output_type": "execute_result"
    }
   ],
   "source": [
    "cars.cdf(3)"
   ]
  },
  {
   "cell_type": "code",
   "execution_count": null,
   "id": "5e3474f0",
   "metadata": {},
   "outputs": [],
   "source": [
    "# Prob 3 or more cars come through: 0.86"
   ]
  },
  {
   "cell_type": "code",
   "execution_count": 5,
   "id": "c77ac1de",
   "metadata": {},
   "outputs": [
    {
     "data": {
      "text/plain": [
       "0.8646647167633873"
      ]
     },
     "execution_count": 5,
     "metadata": {},
     "output_type": "execute_result"
    }
   ],
   "source": [
    "cars.sf(0)"
   ]
  },
  {
   "cell_type": "code",
   "execution_count": null,
   "id": "97572106",
   "metadata": {},
   "outputs": [],
   "source": [
    "# Prob that drive through gets at least 1 car: 0.86"
   ]
  },
  {
   "cell_type": "markdown",
   "id": "a9e14618",
   "metadata": {},
   "source": [
    "### 2. Grades of State University graduates are normally distributed with a mean of 3.0 and a standard deviation of .3. Calculate the following:\n",
    "- What grade point average is required to be in the top 5% of the graduating class?\n",
    "- What GPA constitutes the bottom 15% of the class?\n",
    "- An eccentric alumnus left scholarship money for students in the third decile from the bottom of their class. Determine the range of the third decile. Would a student with a 2.8 grade point average qualify for this scholarship?\n",
    "- If I have a GPA of 3.5, what percentile am I in?\n"
   ]
  },
  {
   "cell_type": "code",
   "execution_count": 6,
   "id": "2ce30350",
   "metadata": {},
   "outputs": [],
   "source": [
    "mean = 3\n",
    "std = 0.3\n",
    "\n",
    "grades = stats.norm(mean,std)"
   ]
  },
  {
   "cell_type": "code",
   "execution_count": 7,
   "id": "aa6b53a3",
   "metadata": {},
   "outputs": [
    {
     "data": {
      "text/plain": [
       "3.4934560880854417"
      ]
     },
     "execution_count": 7,
     "metadata": {},
     "output_type": "execute_result"
    }
   ],
   "source": [
    "grades.isf(0.05)"
   ]
  },
  {
   "cell_type": "code",
   "execution_count": 8,
   "id": "6ca7e057",
   "metadata": {},
   "outputs": [],
   "source": [
    "# GPA required to be in top 5%: 3.49"
   ]
  },
  {
   "cell_type": "code",
   "execution_count": 9,
   "id": "390611d4",
   "metadata": {},
   "outputs": [
    {
     "data": {
      "text/plain": [
       "2.689069983151863"
      ]
     },
     "execution_count": 9,
     "metadata": {},
     "output_type": "execute_result"
    }
   ],
   "source": [
    "grades.ppf(0.15)"
   ]
  },
  {
   "cell_type": "code",
   "execution_count": 10,
   "id": "b690f122",
   "metadata": {},
   "outputs": [],
   "source": [
    "# GPA for bottom 15%: 2.68"
   ]
  },
  {
   "cell_type": "code",
   "execution_count": 11,
   "id": "c127a1eb",
   "metadata": {
    "scrolled": true
   },
   "outputs": [
    {
     "data": {
      "text/plain": [
       "3.1660154158667018"
      ]
     },
     "execution_count": 11,
     "metadata": {},
     "output_type": "execute_result"
    }
   ],
   "source": [
    "grades.isf(.29)"
   ]
  },
  {
   "cell_type": "code",
   "execution_count": 12,
   "id": "0842e9de",
   "metadata": {},
   "outputs": [
    {
     "data": {
      "text/plain": [
       "2.9239958690592602"
      ]
     },
     "execution_count": 12,
     "metadata": {},
     "output_type": "execute_result"
    }
   ],
   "source": [
    "grades.ppf(.40)"
   ]
  },
  {
   "cell_type": "code",
   "execution_count": 13,
   "id": "df032501",
   "metadata": {},
   "outputs": [],
   "source": [
    "# range of third decile is [2.92,3.16]\n",
    "# student with 2.8 GPA would not qualify"
   ]
  },
  {
   "cell_type": "code",
   "execution_count": 14,
   "id": "2fec9138",
   "metadata": {},
   "outputs": [
    {
     "data": {
      "text/plain": [
       "0.3315904626424956"
      ]
     },
     "execution_count": 14,
     "metadata": {},
     "output_type": "execute_result"
    }
   ],
   "source": [
    "grades.pdf(3.5)"
   ]
  },
  {
   "cell_type": "code",
   "execution_count": 15,
   "id": "765c3178",
   "metadata": {},
   "outputs": [],
   "source": [
    "#GPA 3.5 is 33rd percentile"
   ]
  },
  {
   "cell_type": "markdown",
   "id": "5a510ca7",
   "metadata": {},
   "source": [
    "### 3. A marketing website has an average click-through rate of 2%. One day they observe 4326 visitors and 97 click-throughs. How likely is it that this many people or more click through?"
   ]
  },
  {
   "cell_type": "code",
   "execution_count": 16,
   "id": "1a49d0f4",
   "metadata": {},
   "outputs": [],
   "source": [
    "visitors = n_trials = 4326\n",
    "p = 0.02\n",
    "\n",
    "click_t = stats.binom(n_trials,p)"
   ]
  },
  {
   "cell_type": "code",
   "execution_count": 17,
   "id": "22e7725d",
   "metadata": {},
   "outputs": [
    {
     "data": {
      "text/plain": [
       "0.11781530585978467"
      ]
     },
     "execution_count": 17,
     "metadata": {},
     "output_type": "execute_result"
    }
   ],
   "source": [
    "click_t.sf(97)"
   ]
  },
  {
   "cell_type": "code",
   "execution_count": 18,
   "id": "884bda1c",
   "metadata": {},
   "outputs": [],
   "source": [
    "# Probability this many people click through: 0.12"
   ]
  },
  {
   "cell_type": "markdown",
   "id": "60fa1944",
   "metadata": {},
   "source": [
    "### 4. You are working on some statistics homework consisting of 100 questions where all of the answers are a probability rounded to the hundreths place. Looking to save time, you put down random probabilities as the answer to each question.\n",
    "\n",
    "- What is the probability that at least one of your first 60 answers is correct?"
   ]
  },
  {
   "cell_type": "code",
   "execution_count": 19,
   "id": "b86089cb",
   "metadata": {},
   "outputs": [],
   "source": [
    "n_trials = 60\n",
    "p = 1/100"
   ]
  },
  {
   "cell_type": "code",
   "execution_count": 20,
   "id": "12857cef",
   "metadata": {},
   "outputs": [],
   "source": [
    "correct = stats.binom(n_trials,p)"
   ]
  },
  {
   "cell_type": "code",
   "execution_count": 21,
   "id": "da440e76",
   "metadata": {},
   "outputs": [
    {
     "data": {
      "text/plain": [
       "0.45284335760923855"
      ]
     },
     "execution_count": 21,
     "metadata": {},
     "output_type": "execute_result"
    }
   ],
   "source": [
    "correct.sf(0)"
   ]
  },
  {
   "cell_type": "markdown",
   "id": "741f16b6",
   "metadata": {},
   "source": [
    "### 5. The codeup staff tends to get upset when the student break area is not cleaned up. Suppose that there's a 3% chance that any one student cleans the break area when they visit it, and, on any given day, about 90% of the 3 active cohorts of 22 students visit the break area. How likely is it that the break area gets cleaned up each day? How likely is it that it goes two days without getting cleaned up? All week?"
   ]
  },
  {
   "cell_type": "code",
   "execution_count": 22,
   "id": "c4b7d360",
   "metadata": {},
   "outputs": [],
   "source": [
    "n_trials = 60\n",
    "p = 0.03"
   ]
  },
  {
   "cell_type": "code",
   "execution_count": 23,
   "id": "c906a24b",
   "metadata": {},
   "outputs": [],
   "source": [
    "clean = stats.binom(n_trials,p)"
   ]
  },
  {
   "cell_type": "code",
   "execution_count": 24,
   "id": "17ad30fa",
   "metadata": {},
   "outputs": [
    {
     "data": {
      "text/plain": [
       "0.29840412808127686"
      ]
     },
     "execution_count": 24,
     "metadata": {},
     "output_type": "execute_result"
    }
   ],
   "source": [
    "clean.pmf(1)"
   ]
  },
  {
   "cell_type": "code",
   "execution_count": 25,
   "id": "35546df6",
   "metadata": {},
   "outputs": [],
   "source": [
    "# 30% chance break area gets cleaned up each day"
   ]
  },
  {
   "cell_type": "code",
   "execution_count": 26,
   "id": "2a41836b",
   "metadata": {},
   "outputs": [
    {
     "data": {
      "text/plain": [
       "0.49223676749339346"
      ]
     },
     "execution_count": 26,
     "metadata": {},
     "output_type": "execute_result"
    }
   ],
   "source": [
    "(1-clean.pmf(1))**2"
   ]
  },
  {
   "cell_type": "code",
   "execution_count": 27,
   "id": "2a60f322",
   "metadata": {},
   "outputs": [],
   "source": [
    "# 49% chance break area goes 2 days without being cleaned up"
   ]
  },
  {
   "cell_type": "code",
   "execution_count": 28,
   "id": "fc71c878",
   "metadata": {},
   "outputs": [
    {
     "data": {
      "text/plain": [
       "0.16999459972522257"
      ]
     },
     "execution_count": 28,
     "metadata": {},
     "output_type": "execute_result"
    }
   ],
   "source": [
    "(1-clean.pmf(1))**5"
   ]
  },
  {
   "cell_type": "code",
   "execution_count": 29,
   "id": "e42b1be4",
   "metadata": {},
   "outputs": [],
   "source": [
    "# 16% chance break area goes all week without being cleaned up"
   ]
  },
  {
   "cell_type": "markdown",
   "id": "dc416d1f",
   "metadata": {},
   "source": [
    "### 6. You want to get lunch at La Panaderia, but notice that the line is usually very long at lunchtime. After several weeks of careful observation, you notice that the average number of people in line when your lunch break starts is normally distributed with a mean of 15 and standard deviation of 3. If it takes 2 minutes for each person to order, and 10 minutes from ordering to getting your food, what is the likelihood that you have at least 15 minutes left to eat your food before you have to go back to class? Assume you have one hour for lunch, and ignore travel time to and from La Panaderia."
   ]
  },
  {
   "cell_type": "code",
   "execution_count": 30,
   "id": "1d8109bc",
   "metadata": {},
   "outputs": [],
   "source": [
    "mean = 15\n",
    "std = 3"
   ]
  },
  {
   "cell_type": "code",
   "execution_count": 31,
   "id": "b8fe226a",
   "metadata": {},
   "outputs": [],
   "source": [
    "lunch = stats.norm(mean,std)"
   ]
  },
  {
   "cell_type": "code",
   "execution_count": 32,
   "id": "131b319f",
   "metadata": {},
   "outputs": [],
   "source": [
    "# (x*2)+10 = 45\n",
    "# x = 17.5 = 17 people max"
   ]
  },
  {
   "cell_type": "code",
   "execution_count": 33,
   "id": "edb6e0e1",
   "metadata": {},
   "outputs": [
    {
     "data": {
      "text/plain": [
       "0.7475074624530771"
      ]
     },
     "execution_count": 33,
     "metadata": {},
     "output_type": "execute_result"
    }
   ],
   "source": [
    "lunch.cdf(17)"
   ]
  },
  {
   "cell_type": "code",
   "execution_count": 34,
   "id": "9412b25e",
   "metadata": {},
   "outputs": [],
   "source": [
    "# prob you have 15 min left is .75"
   ]
  },
  {
   "cell_type": "markdown",
   "id": "3c5e3ce7",
   "metadata": {},
   "source": [
    "### 7. Connect to the employees database and find the average salary of current employees, along with the standard deviation. For the following questions, calculate the answer based on modeling the employees salaries with a normal distribution defined by the calculated mean and standard deviation then compare this answer to the actual values present in the salaries dataset.\n",
    "\n",
    "- What percent of employees earn less than 60,000?\n",
    "- What percent of employees earn more than 95,000?\n",
    "- What percent of employees earn between 65,000 and 80,000?\n",
    "- What do the top 5% of employees make?"
   ]
  },
  {
   "cell_type": "code",
   "execution_count": 35,
   "id": "6c933906",
   "metadata": {},
   "outputs": [],
   "source": [
    "import pandas as pd\n",
    "import env"
   ]
  },
  {
   "cell_type": "code",
   "execution_count": 47,
   "id": "438291d8",
   "metadata": {},
   "outputs": [],
   "source": [
    "def get_db_url(dbname, username=env.user, hostname=env.host, passw=env.password):\n",
    "    url = f'mysql+pymysql://{username}:{passw}@{hostname}/employees'\n",
    "    return url"
   ]
  },
  {
   "cell_type": "code",
   "execution_count": 50,
   "id": "1af9d213",
   "metadata": {},
   "outputs": [],
   "source": [
    "url = get_db_url('employees', env.user, env.host, env.password)"
   ]
  },
  {
   "cell_type": "code",
   "execution_count": 51,
   "id": "bbd8a42d",
   "metadata": {},
   "outputs": [],
   "source": [
    "salary = pd.read_sql('SELECT * FROM salaries', url)"
   ]
  },
  {
   "cell_type": "code",
   "execution_count": 68,
   "id": "f0bbf8a1",
   "metadata": {
    "scrolled": true
   },
   "outputs": [
    {
     "data": {
      "text/html": [
       "<div>\n",
       "<style scoped>\n",
       "    .dataframe tbody tr th:only-of-type {\n",
       "        vertical-align: middle;\n",
       "    }\n",
       "\n",
       "    .dataframe tbody tr th {\n",
       "        vertical-align: top;\n",
       "    }\n",
       "\n",
       "    .dataframe thead th {\n",
       "        text-align: right;\n",
       "    }\n",
       "</style>\n",
       "<table border=\"1\" class=\"dataframe\">\n",
       "  <thead>\n",
       "    <tr style=\"text-align: right;\">\n",
       "      <th></th>\n",
       "      <th>emp_no</th>\n",
       "      <th>salary</th>\n",
       "      <th>from_date</th>\n",
       "      <th>to_date</th>\n",
       "    </tr>\n",
       "  </thead>\n",
       "  <tbody>\n",
       "    <tr>\n",
       "      <th>0</th>\n",
       "      <td>10001</td>\n",
       "      <td>60117</td>\n",
       "      <td>1986-06-26</td>\n",
       "      <td>1987-06-26</td>\n",
       "    </tr>\n",
       "    <tr>\n",
       "      <th>1</th>\n",
       "      <td>10001</td>\n",
       "      <td>62102</td>\n",
       "      <td>1987-06-26</td>\n",
       "      <td>1988-06-25</td>\n",
       "    </tr>\n",
       "    <tr>\n",
       "      <th>2</th>\n",
       "      <td>10001</td>\n",
       "      <td>66074</td>\n",
       "      <td>1988-06-25</td>\n",
       "      <td>1989-06-25</td>\n",
       "    </tr>\n",
       "    <tr>\n",
       "      <th>3</th>\n",
       "      <td>10001</td>\n",
       "      <td>66596</td>\n",
       "      <td>1989-06-25</td>\n",
       "      <td>1990-06-25</td>\n",
       "    </tr>\n",
       "    <tr>\n",
       "      <th>4</th>\n",
       "      <td>10001</td>\n",
       "      <td>66961</td>\n",
       "      <td>1990-06-25</td>\n",
       "      <td>1991-06-25</td>\n",
       "    </tr>\n",
       "  </tbody>\n",
       "</table>\n",
       "</div>"
      ],
      "text/plain": [
       "   emp_no  salary   from_date     to_date\n",
       "0   10001   60117  1986-06-26  1987-06-26\n",
       "1   10001   62102  1987-06-26  1988-06-25\n",
       "2   10001   66074  1988-06-25  1989-06-25\n",
       "3   10001   66596  1989-06-25  1990-06-25\n",
       "4   10001   66961  1990-06-25  1991-06-25"
      ]
     },
     "execution_count": 68,
     "metadata": {},
     "output_type": "execute_result"
    }
   ],
   "source": [
    "salary.head()"
   ]
  },
  {
   "cell_type": "code",
   "execution_count": 55,
   "id": "7b069c39",
   "metadata": {},
   "outputs": [],
   "source": [
    "mean = salary.salary.mean()"
   ]
  },
  {
   "cell_type": "code",
   "execution_count": 56,
   "id": "42059990",
   "metadata": {},
   "outputs": [],
   "source": [
    "std = salary.salary.std()"
   ]
  },
  {
   "cell_type": "code",
   "execution_count": 57,
   "id": "094021fe",
   "metadata": {},
   "outputs": [],
   "source": [
    "sal = stats.norm(mean,std)"
   ]
  },
  {
   "cell_type": "code",
   "execution_count": 58,
   "id": "20630cce",
   "metadata": {},
   "outputs": [
    {
     "data": {
      "text/plain": [
       "0.41082494791346336"
      ]
     },
     "execution_count": 58,
     "metadata": {},
     "output_type": "execute_result"
    }
   ],
   "source": [
    "sal.cdf(60000)"
   ]
  },
  {
   "cell_type": "code",
   "execution_count": null,
   "id": "c0345bcb",
   "metadata": {},
   "outputs": [],
   "source": [
    "# 41% of employees earn less than $60,000"
   ]
  },
  {
   "cell_type": "code",
   "execution_count": 59,
   "id": "7cc5af0b",
   "metadata": {},
   "outputs": [
    {
     "data": {
      "text/plain": [
       "0.03251945131024514"
      ]
     },
     "execution_count": 59,
     "metadata": {},
     "output_type": "execute_result"
    }
   ],
   "source": [
    "sal.sf(95000)"
   ]
  },
  {
   "cell_type": "code",
   "execution_count": null,
   "id": "4cb63340",
   "metadata": {},
   "outputs": [],
   "source": [
    "# 3% of employees earn more than $95,000"
   ]
  },
  {
   "cell_type": "code",
   "execution_count": 60,
   "id": "17e20b71",
   "metadata": {},
   "outputs": [
    {
     "data": {
      "text/plain": [
       "0.5280424632978248"
      ]
     },
     "execution_count": 60,
     "metadata": {},
     "output_type": "execute_result"
    }
   ],
   "source": [
    "sal.cdf(65000)"
   ]
  },
  {
   "cell_type": "code",
   "execution_count": 61,
   "id": "6d0fba62",
   "metadata": {},
   "outputs": [
    {
     "data": {
      "text/plain": [
       "0.1691294334161672"
      ]
     },
     "execution_count": 61,
     "metadata": {},
     "output_type": "execute_result"
    }
   ],
   "source": [
    "sal.sf(79999)"
   ]
  },
  {
   "cell_type": "code",
   "execution_count": 62,
   "id": "cc870838",
   "metadata": {},
   "outputs": [
    {
     "data": {
      "text/plain": [
       "0.302828103286008"
      ]
     },
     "execution_count": 62,
     "metadata": {},
     "output_type": "execute_result"
    }
   ],
   "source": [
    "1 - (sal.cdf(65000))-(sal.sf(79999))"
   ]
  },
  {
   "cell_type": "code",
   "execution_count": null,
   "id": "af05dd9a",
   "metadata": {},
   "outputs": [],
   "source": [
    "# 30% of employees earn between $65,000 and $80,000"
   ]
  },
  {
   "cell_type": "code",
   "execution_count": 67,
   "id": "c1d9a89f",
   "metadata": {},
   "outputs": [
    {
     "data": {
      "text/plain": [
       "91616.71784707883"
      ]
     },
     "execution_count": 67,
     "metadata": {},
     "output_type": "execute_result"
    }
   ],
   "source": [
    "sal.isf(.05)"
   ]
  },
  {
   "cell_type": "code",
   "execution_count": null,
   "id": "2943796a",
   "metadata": {},
   "outputs": [],
   "source": [
    "# top 5% of employees make >$91,615"
   ]
  }
 ],
 "metadata": {
  "kernelspec": {
   "display_name": "Python 3 (ipykernel)",
   "language": "python",
   "name": "python3"
  },
  "language_info": {
   "codemirror_mode": {
    "name": "ipython",
    "version": 3
   },
   "file_extension": ".py",
   "mimetype": "text/x-python",
   "name": "python",
   "nbconvert_exporter": "python",
   "pygments_lexer": "ipython3",
   "version": "3.9.12"
  }
 },
 "nbformat": 4,
 "nbformat_minor": 5
}
