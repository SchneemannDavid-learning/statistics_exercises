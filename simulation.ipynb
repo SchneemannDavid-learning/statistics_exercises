{
 "cells": [
  {
   "cell_type": "markdown",
   "id": "86a4249b",
   "metadata": {},
   "source": [
    "## Simulation Exercises"
   ]
  },
  {
   "cell_type": "code",
   "execution_count": 6,
   "id": "6a5c5e6f",
   "metadata": {},
   "outputs": [],
   "source": [
    "import numpy as np\n",
    "import pandas as pd\n",
    "import matplotlib.pyplot as plt\n",
    "\n",
    "import viz # curriculum example visualizations\n",
    "\n",
    "np.random.seed(29)"
   ]
  },
  {
   "cell_type": "markdown",
   "id": "aa1dba5b",
   "metadata": {},
   "source": [
    "### 1. How likely is it that you roll doubles when rolling two dice?"
   ]
  },
  {
   "cell_type": "code",
   "execution_count": null,
   "id": "3c518c9e",
   "metadata": {},
   "outputs": [],
   "source": [
    "n_trials = nrows = 10000\n",
    "n_dice = ncols = 2"
   ]
  },
  {
   "cell_type": "code",
   "execution_count": 12,
   "id": "2a5fe77c",
   "metadata": {
    "scrolled": true
   },
   "outputs": [
    {
     "data": {
      "text/plain": [
       "array([[2, 3],\n",
       "       [3, 6],\n",
       "       [5, 4],\n",
       "       ...,\n",
       "       [6, 5],\n",
       "       [3, 2],\n",
       "       [6, 5]])"
      ]
     },
     "execution_count": 12,
     "metadata": {},
     "output_type": "execute_result"
    }
   ],
   "source": [
    "rolls = np.random.choice((\n",
    "    [1,2,3,4,5,6]), size = (n_trials, n_dice))\n",
    "rolls"
   ]
  },
  {
   "cell_type": "code",
   "execution_count": 23,
   "id": "85004e41",
   "metadata": {},
   "outputs": [
    {
     "data": {
      "text/plain": [
       "array([False, False, False, ..., False, False, False])"
      ]
     },
     "execution_count": 23,
     "metadata": {},
     "output_type": "execute_result"
    }
   ],
   "source": [
    "rolls[:,0]"
   ]
  },
  {
   "cell_type": "code",
   "execution_count": 24,
   "id": "7214a23b",
   "metadata": {},
   "outputs": [
    {
     "data": {
      "text/plain": [
       "array([3, 6, 4, ..., 5, 2, 5])"
      ]
     },
     "execution_count": 24,
     "metadata": {},
     "output_type": "execute_result"
    }
   ],
   "source": [
    "rolls[:,1]"
   ]
  },
  {
   "cell_type": "code",
   "execution_count": 25,
   "id": "1e5668e9",
   "metadata": {},
   "outputs": [
    {
     "data": {
      "text/plain": [
       "array([False, False, False, ..., False, False, False])"
      ]
     },
     "execution_count": 25,
     "metadata": {},
     "output_type": "execute_result"
    }
   ],
   "source": [
    "rolls[:,0] == rolls[:,1]"
   ]
  },
  {
   "cell_type": "code",
   "execution_count": 27,
   "id": "41b0b1d9",
   "metadata": {},
   "outputs": [
    {
     "data": {
      "text/plain": [
       "0.1672"
      ]
     },
     "execution_count": 27,
     "metadata": {},
     "output_type": "execute_result"
    }
   ],
   "source": [
    "(rolls[:,0] == rolls[:,1]).mean()"
   ]
  },
  {
   "cell_type": "markdown",
   "id": "682ecce2",
   "metadata": {},
   "source": [
    "#### There is a 16.7% chance we roll doubles"
   ]
  },
  {
   "cell_type": "code",
   "execution_count": 17,
   "id": "a0c587b9",
   "metadata": {},
   "outputs": [
    {
     "data": {
      "text/html": [
       "<div>\n",
       "<style scoped>\n",
       "    .dataframe tbody tr th:only-of-type {\n",
       "        vertical-align: middle;\n",
       "    }\n",
       "\n",
       "    .dataframe tbody tr th {\n",
       "        vertical-align: top;\n",
       "    }\n",
       "\n",
       "    .dataframe thead th {\n",
       "        text-align: right;\n",
       "    }\n",
       "</style>\n",
       "<table border=\"1\" class=\"dataframe\">\n",
       "  <thead>\n",
       "    <tr style=\"text-align: right;\">\n",
       "      <th></th>\n",
       "      <th>0</th>\n",
       "      <th>1</th>\n",
       "    </tr>\n",
       "  </thead>\n",
       "  <tbody>\n",
       "    <tr>\n",
       "      <th>0</th>\n",
       "      <td>2</td>\n",
       "      <td>3</td>\n",
       "    </tr>\n",
       "    <tr>\n",
       "      <th>1</th>\n",
       "      <td>3</td>\n",
       "      <td>6</td>\n",
       "    </tr>\n",
       "    <tr>\n",
       "      <th>2</th>\n",
       "      <td>5</td>\n",
       "      <td>4</td>\n",
       "    </tr>\n",
       "    <tr>\n",
       "      <th>3</th>\n",
       "      <td>2</td>\n",
       "      <td>5</td>\n",
       "    </tr>\n",
       "    <tr>\n",
       "      <th>4</th>\n",
       "      <td>5</td>\n",
       "      <td>6</td>\n",
       "    </tr>\n",
       "    <tr>\n",
       "      <th>5</th>\n",
       "      <td>1</td>\n",
       "      <td>2</td>\n",
       "    </tr>\n",
       "    <tr>\n",
       "      <th>6</th>\n",
       "      <td>1</td>\n",
       "      <td>3</td>\n",
       "    </tr>\n",
       "    <tr>\n",
       "      <th>7</th>\n",
       "      <td>3</td>\n",
       "      <td>2</td>\n",
       "    </tr>\n",
       "    <tr>\n",
       "      <th>8</th>\n",
       "      <td>5</td>\n",
       "      <td>4</td>\n",
       "    </tr>\n",
       "    <tr>\n",
       "      <th>9</th>\n",
       "      <td>5</td>\n",
       "      <td>2</td>\n",
       "    </tr>\n",
       "    <tr>\n",
       "      <th>10</th>\n",
       "      <td>1</td>\n",
       "      <td>2</td>\n",
       "    </tr>\n",
       "    <tr>\n",
       "      <th>11</th>\n",
       "      <td>1</td>\n",
       "      <td>2</td>\n",
       "    </tr>\n",
       "    <tr>\n",
       "      <th>12</th>\n",
       "      <td>4</td>\n",
       "      <td>1</td>\n",
       "    </tr>\n",
       "    <tr>\n",
       "      <th>13</th>\n",
       "      <td>2</td>\n",
       "      <td>4</td>\n",
       "    </tr>\n",
       "    <tr>\n",
       "      <th>14</th>\n",
       "      <td>4</td>\n",
       "      <td>6</td>\n",
       "    </tr>\n",
       "    <tr>\n",
       "      <th>15</th>\n",
       "      <td>3</td>\n",
       "      <td>6</td>\n",
       "    </tr>\n",
       "    <tr>\n",
       "      <th>16</th>\n",
       "      <td>4</td>\n",
       "      <td>5</td>\n",
       "    </tr>\n",
       "    <tr>\n",
       "      <th>17</th>\n",
       "      <td>4</td>\n",
       "      <td>1</td>\n",
       "    </tr>\n",
       "    <tr>\n",
       "      <th>18</th>\n",
       "      <td>1</td>\n",
       "      <td>1</td>\n",
       "    </tr>\n",
       "    <tr>\n",
       "      <th>19</th>\n",
       "      <td>3</td>\n",
       "      <td>5</td>\n",
       "    </tr>\n",
       "    <tr>\n",
       "      <th>20</th>\n",
       "      <td>3</td>\n",
       "      <td>3</td>\n",
       "    </tr>\n",
       "    <tr>\n",
       "      <th>21</th>\n",
       "      <td>3</td>\n",
       "      <td>3</td>\n",
       "    </tr>\n",
       "    <tr>\n",
       "      <th>22</th>\n",
       "      <td>6</td>\n",
       "      <td>4</td>\n",
       "    </tr>\n",
       "    <tr>\n",
       "      <th>23</th>\n",
       "      <td>3</td>\n",
       "      <td>3</td>\n",
       "    </tr>\n",
       "    <tr>\n",
       "      <th>24</th>\n",
       "      <td>6</td>\n",
       "      <td>1</td>\n",
       "    </tr>\n",
       "  </tbody>\n",
       "</table>\n",
       "</div>"
      ],
      "text/plain": [
       "    0  1\n",
       "0   2  3\n",
       "1   3  6\n",
       "2   5  4\n",
       "3   2  5\n",
       "4   5  6\n",
       "5   1  2\n",
       "6   1  3\n",
       "7   3  2\n",
       "8   5  4\n",
       "9   5  2\n",
       "10  1  2\n",
       "11  1  2\n",
       "12  4  1\n",
       "13  2  4\n",
       "14  4  6\n",
       "15  3  6\n",
       "16  4  5\n",
       "17  4  1\n",
       "18  1  1\n",
       "19  3  5\n",
       "20  3  3\n",
       "21  3  3\n",
       "22  6  4\n",
       "23  3  3\n",
       "24  6  1"
      ]
     },
     "execution_count": 17,
     "metadata": {},
     "output_type": "execute_result"
    }
   ],
   "source": [
    "#another method: lambda\n",
    "pd.DataFrame(rolls).head(25)"
   ]
  },
  {
   "cell_type": "code",
   "execution_count": 30,
   "id": "31a97155",
   "metadata": {},
   "outputs": [],
   "source": [
    "df_rolls = pd.DataFrame(rolls).apply(lambda row: row[0] == row[1], axis=1).head(25)"
   ]
  },
  {
   "cell_type": "code",
   "execution_count": 31,
   "id": "2dfba367",
   "metadata": {},
   "outputs": [
    {
     "data": {
      "text/plain": [
       "0.16"
      ]
     },
     "execution_count": 31,
     "metadata": {},
     "output_type": "execute_result"
    }
   ],
   "source": [
    "df_rolls.mean()"
   ]
  },
  {
   "cell_type": "markdown",
   "id": "3175e645",
   "metadata": {},
   "source": [
    "### 2. If you flip 8 coins, what is the probability of getting exactly 3 heads? What is the probability of getting more than 3 heads?"
   ]
  },
  {
   "cell_type": "code",
   "execution_count": 53,
   "id": "373cb031",
   "metadata": {},
   "outputs": [],
   "source": [
    "# heads = 1\n",
    "# tails = 0\n",
    "\n",
    "coin_toss = [1,0]\n",
    "flip_times = 8\n",
    "sim_size = 1000000"
   ]
  },
  {
   "cell_type": "code",
   "execution_count": 54,
   "id": "2f232353",
   "metadata": {},
   "outputs": [
    {
     "data": {
      "text/plain": [
       "array([[0, 1, 1, ..., 0, 1, 0],\n",
       "       [1, 0, 0, ..., 0, 0, 0],\n",
       "       [1, 1, 1, ..., 1, 1, 0],\n",
       "       ...,\n",
       "       [1, 1, 0, ..., 1, 1, 0],\n",
       "       [0, 1, 1, ..., 0, 0, 1],\n",
       "       [0, 0, 0, ..., 0, 0, 0]])"
      ]
     },
     "execution_count": 54,
     "metadata": {},
     "output_type": "execute_result"
    }
   ],
   "source": [
    "coin_8 = np.random.choice(coin_toss, size = (sim_size,flip_times))\n",
    "coin_8"
   ]
  },
  {
   "cell_type": "code",
   "execution_count": 56,
   "id": "a9cdeb2d",
   "metadata": {},
   "outputs": [
    {
     "data": {
      "text/plain": [
       "array([4, 2, 6, ..., 6, 4, 1])"
      ]
     },
     "execution_count": 56,
     "metadata": {},
     "output_type": "execute_result"
    }
   ],
   "source": [
    "heads = coin_8.sum(axis=1)\n",
    "heads"
   ]
  },
  {
   "cell_type": "code",
   "execution_count": 59,
   "id": "8aae9a9b",
   "metadata": {},
   "outputs": [],
   "source": [
    "three_heads = (heads == 3)\n",
    "more_than_three_heads = (heads > 3)"
   ]
  },
  {
   "cell_type": "code",
   "execution_count": 61,
   "id": "bef29b39",
   "metadata": {},
   "outputs": [
    {
     "data": {
      "text/plain": [
       "0.219407"
      ]
     },
     "execution_count": 61,
     "metadata": {},
     "output_type": "execute_result"
    }
   ],
   "source": [
    "three_heads.mean()"
   ]
  },
  {
   "cell_type": "markdown",
   "id": "1de15217",
   "metadata": {},
   "source": [
    "#### Probability of exactly three heads = 0.219"
   ]
  },
  {
   "cell_type": "code",
   "execution_count": 62,
   "id": "72d6f7ae",
   "metadata": {},
   "outputs": [
    {
     "data": {
      "text/plain": [
       "0.636582"
      ]
     },
     "execution_count": 62,
     "metadata": {},
     "output_type": "execute_result"
    }
   ],
   "source": [
    "more_than_three_heads.mean()"
   ]
  },
  {
   "cell_type": "markdown",
   "id": "9c720497",
   "metadata": {},
   "source": [
    "#### Probability of more than three heads = 0.637"
   ]
  },
  {
   "cell_type": "markdown",
   "id": "99b7a2e6",
   "metadata": {},
   "source": [
    "### 3. There are approximitely 3 web development cohorts for every 1 data science cohort at Codeup. Assuming that Codeup randomly selects an alumni to put on a billboard, what are the odds that the two billboards I drive past both have data science students on them?"
   ]
  },
  {
   "cell_type": "markdown",
   "id": "8f41940f",
   "metadata": {},
   "source": [
    "1 of every 4 cohorts is data science; thus, the probability of choosing a student from a data science cohort is: 1/4 or 0.25"
   ]
  },
  {
   "cell_type": "code",
   "execution_count": 64,
   "id": "bedcf5f9",
   "metadata": {},
   "outputs": [],
   "source": [
    "p_data_stu = 0.25\n",
    "sim_size = 1000000"
   ]
  },
  {
   "cell_type": "code",
   "execution_count": 66,
   "id": "2ce866f2",
   "metadata": {},
   "outputs": [
    {
     "data": {
      "text/plain": [
       "array([[0.06163575, 0.71201443],\n",
       "       [0.46544835, 0.62268262],\n",
       "       [0.70894091, 0.08664236],\n",
       "       ...,\n",
       "       [0.76505303, 0.72209678],\n",
       "       [0.60164862, 0.50423587],\n",
       "       [0.59772599, 0.09654694]])"
      ]
     },
     "execution_count": 66,
     "metadata": {},
     "output_type": "execute_result"
    }
   ],
   "source": [
    "# 2 billboards, 2 opportunities\n",
    "drive_past_board = n_cols = 2\n",
    "\n",
    "drive_by = np.random.random((sim_size,drive_past_board))\n",
    "drive_by"
   ]
  },
  {
   "cell_type": "code",
   "execution_count": 68,
   "id": "1663b279",
   "metadata": {},
   "outputs": [
    {
     "data": {
      "text/plain": [
       "array([[ True, False],\n",
       "       [False, False],\n",
       "       [False,  True],\n",
       "       ...,\n",
       "       [False, False],\n",
       "       [False, False],\n",
       "       [False,  True]])"
      ]
     },
     "execution_count": 68,
     "metadata": {},
     "output_type": "execute_result"
    }
   ],
   "source": [
    "is_data_stu = drive_by < p_data_stu\n",
    "is_data_stu"
   ]
  },
  {
   "cell_type": "code",
   "execution_count": 69,
   "id": "52d79751",
   "metadata": {},
   "outputs": [
    {
     "data": {
      "text/plain": [
       "0.062057"
      ]
     },
     "execution_count": 69,
     "metadata": {},
     "output_type": "execute_result"
    }
   ],
   "source": [
    "(is_data_stu.sum(axis=1) == 2).mean()"
   ]
  },
  {
   "cell_type": "markdown",
   "id": "5062db93",
   "metadata": {},
   "source": [
    "### 4. Codeup students buy, on average, 3 poptart packages with a standard deviation of 1.5 a day from the snack vending machine. If on monday the machine is restocked with 17 poptart packages, how likely is it that I will be able to buy some poptarts on Friday afternoon? (Remember, if you have mean and standard deviation, use the np.random.normal) You'll need to make a judgement call on how to handle some of your values"
   ]
  },
  {
   "cell_type": "code",
   "execution_count": 98,
   "id": "385435ce",
   "metadata": {},
   "outputs": [],
   "source": [
    "mean = 3\n",
    "std = 1.5\n",
    "days = 4"
   ]
  },
  {
   "cell_type": "code",
   "execution_count": 174,
   "id": "fd0d5b0e",
   "metadata": {},
   "outputs": [
    {
     "data": {
      "text/plain": [
       "array([[1.82764718, 0.73071624, 0.49969661, 4.14028829],\n",
       "       [1.68002001, 2.0293688 , 4.85766044, 6.95084311],\n",
       "       [4.68488967, 3.46679117, 4.25556713, 3.70486259],\n",
       "       [1.09387601, 5.55793513, 3.09815467, 1.00370535],\n",
       "       [4.85290494, 3.90992509, 1.91385495, 2.7101591 ],\n",
       "       [5.12990372, 4.50399241, 3.48772726, 0.55119654],\n",
       "       [2.95125727, 2.48677164, 4.02217038, 2.48753593],\n",
       "       [6.69495661, 2.47754689, 3.12269861, 2.56494433],\n",
       "       [2.56165106, 2.1727189 , 1.05038355, 5.18087073],\n",
       "       [1.79432636, 4.9055071 , 1.54505794, 0.5919901 ]])"
      ]
     },
     "execution_count": 174,
     "metadata": {},
     "output_type": "execute_result"
    }
   ],
   "source": [
    "poptart = np.random.normal(mean,std,size = (10,4))\n",
    "poptart"
   ]
  },
  {
   "cell_type": "code",
   "execution_count": 176,
   "id": "8f660961",
   "metadata": {},
   "outputs": [
    {
     "data": {
      "text/plain": [
       "False"
      ]
     },
     "execution_count": 176,
     "metadata": {},
     "output_type": "execute_result"
    }
   ],
   "source": [
    "p_poptart = poptart.sum() < 16\n",
    "p_poptart"
   ]
  },
  {
   "cell_type": "code",
   "execution_count": 117,
   "id": "cb82b0aa",
   "metadata": {},
   "outputs": [
    {
     "data": {
      "text/plain": [
       "1.0"
      ]
     },
     "execution_count": 117,
     "metadata": {},
     "output_type": "execute_result"
    }
   ],
   "source": [
    "#p_poptart.mean()"
   ]
  },
  {
   "cell_type": "markdown",
   "id": "f1eb0f6c",
   "metadata": {},
   "source": [
    "### 5. Compare Heights\n",
    "- Men have an average height of 178 cm and standard deviation of 8cm.\n",
    "- Women have a mean of 170, sd = 6cm.\n",
    "- Since you have means and standard deviations, you can use np.random.normal to generate observations.\n",
    "- If a man and woman are chosen at random, what is the likelihood the woman is taller than the man?"
   ]
  },
  {
   "cell_type": "code",
   "execution_count": 89,
   "id": "1bfbbb17",
   "metadata": {},
   "outputs": [],
   "source": [
    "m_mean = 178\n",
    "m_std = 8\n",
    "\n",
    "w_mean = 170\n",
    "w_std = 6\n",
    "\n",
    "sim_size = 1000000"
   ]
  },
  {
   "cell_type": "code",
   "execution_count": 103,
   "id": "7f7043f1",
   "metadata": {},
   "outputs": [
    {
     "data": {
      "text/plain": [
       "array([178.54345216, 171.52793938, 190.49102255, ..., 168.58297498,\n",
       "       173.36702554, 185.66452862])"
      ]
     },
     "execution_count": 103,
     "metadata": {},
     "output_type": "execute_result"
    }
   ],
   "source": [
    "men = np.random.normal(m_mean,m_std,sim_size)\n",
    "men"
   ]
  },
  {
   "cell_type": "code",
   "execution_count": 108,
   "id": "b2fbaa1b",
   "metadata": {},
   "outputs": [
    {
     "data": {
      "text/plain": [
       "177.9949718201851"
      ]
     },
     "execution_count": 108,
     "metadata": {},
     "output_type": "execute_result"
    }
   ],
   "source": [
    "men.mean()"
   ]
  },
  {
   "cell_type": "code",
   "execution_count": 104,
   "id": "28bcf8df",
   "metadata": {},
   "outputs": [
    {
     "data": {
      "text/plain": [
       "array([177.54671752, 177.78805091, 172.7866646 , ..., 181.01987307,\n",
       "       185.32967088, 168.09443656])"
      ]
     },
     "execution_count": 104,
     "metadata": {},
     "output_type": "execute_result"
    }
   ],
   "source": [
    "women = np.random.normal(w_mean,w_std,sim_size)\n",
    "women"
   ]
  },
  {
   "cell_type": "code",
   "execution_count": 106,
   "id": "d4323b9a",
   "metadata": {},
   "outputs": [
    {
     "data": {
      "text/plain": [
       "170.00465226453005"
      ]
     },
     "execution_count": 106,
     "metadata": {},
     "output_type": "execute_result"
    }
   ],
   "source": [
    "women.mean()"
   ]
  },
  {
   "cell_type": "code",
   "execution_count": 110,
   "id": "bf9e9d95",
   "metadata": {},
   "outputs": [
    {
     "data": {
      "text/plain": [
       "array([False,  True, False, ...,  True,  True, False])"
      ]
     },
     "execution_count": 110,
     "metadata": {},
     "output_type": "execute_result"
    }
   ],
   "source": [
    "p_w_t_m = women > men\n",
    "p_w_t_m"
   ]
  },
  {
   "cell_type": "code",
   "execution_count": 111,
   "id": "1fd405df",
   "metadata": {},
   "outputs": [
    {
     "data": {
      "text/plain": [
       "0.212355"
      ]
     },
     "execution_count": 111,
     "metadata": {},
     "output_type": "execute_result"
    }
   ],
   "source": [
    "p_w_t_m.mean()"
   ]
  },
  {
   "cell_type": "markdown",
   "id": "8e12c483",
   "metadata": {},
   "source": [
    "#### 0.21 probability the woman is taller than the man"
   ]
  },
  {
   "cell_type": "markdown",
   "id": "50dcc2ab",
   "metadata": {},
   "source": [
    "### 6. When installing anaconda on a student's computer, there's a 1 in 250 chance that the download is corrupted and the installation fails. \n",
    "- What are the odds that after having 50 students download anaconda, no one has an installation issue? 100 students?\n",
    "\n",
    "- What is the probability that we observe an installation issue within the first 150 students that download anaconda?\n",
    "\n",
    "- How likely is it that 450 students all download anaconda without an issue?"
   ]
  },
  {
   "cell_type": "code",
   "execution_count": 154,
   "id": "29a9c326",
   "metadata": {},
   "outputs": [],
   "source": [
    "# fail = 0\n",
    "# succeed = 1\n",
    "\n",
    "sof = [1,0]\n",
    "stu_1 = 50\n",
    "stu_2 = 100\n",
    "p_corr = 1/250\n",
    "sim_size = 1000000"
   ]
  },
  {
   "cell_type": "code",
   "execution_count": 163,
   "id": "6fbea380",
   "metadata": {},
   "outputs": [
    {
     "data": {
      "text/plain": [
       "array([[0.0237615 , 0.4415125 , 0.13674159, ..., 0.58983684, 0.51258223,\n",
       "        0.78664985],\n",
       "       [0.24917423, 0.14948341, 0.54453614, ..., 0.53710996, 0.43927086,\n",
       "        0.81021402],\n",
       "       [0.517036  , 0.20995394, 0.0418408 , ..., 0.92140466, 0.72389631,\n",
       "        0.56217646],\n",
       "       ...,\n",
       "       [0.39623767, 0.59637009, 0.78001951, ..., 0.97410949, 0.66018724,\n",
       "        0.70478004],\n",
       "       [0.12631373, 0.84680954, 0.15527551, ..., 0.98218419, 0.59275287,\n",
       "        0.18079772],\n",
       "       [0.3579006 , 0.6664397 , 0.69335004, ..., 0.60463288, 0.94135258,\n",
       "        0.03488349]])"
      ]
     },
     "execution_count": 163,
     "metadata": {},
     "output_type": "execute_result"
    }
   ],
   "source": [
    "inst50 = np.random.random(size = (sim_size,stu_1))\n",
    "inst50"
   ]
  },
  {
   "cell_type": "code",
   "execution_count": 164,
   "id": "f46ea1eb",
   "metadata": {},
   "outputs": [
    {
     "data": {
      "text/plain": [
       "array([[False, False, False, ..., False, False, False],\n",
       "       [False, False, False, ..., False, False, False],\n",
       "       [False, False, False, ..., False, False, False],\n",
       "       ...,\n",
       "       [False, False, False, ..., False, False, False],\n",
       "       [False, False, False, ..., False, False, False],\n",
       "       [False, False, False, ..., False, False, False]])"
      ]
     },
     "execution_count": 164,
     "metadata": {},
     "output_type": "execute_result"
    }
   ],
   "source": [
    "p50 = inst50 < p_corr\n",
    "p50"
   ]
  },
  {
   "cell_type": "code",
   "execution_count": 166,
   "id": "23268ab7",
   "metadata": {
    "scrolled": true
   },
   "outputs": [],
   "source": [
    "sum_p50 = p50.sum(axis=1)"
   ]
  },
  {
   "cell_type": "code",
   "execution_count": 168,
   "id": "77bad0a0",
   "metadata": {},
   "outputs": [
    {
     "data": {
      "text/plain": [
       "0.818104"
      ]
     },
     "execution_count": 168,
     "metadata": {},
     "output_type": "execute_result"
    }
   ],
   "source": [
    "(sum_p50 == 0).mean()"
   ]
  },
  {
   "cell_type": "markdown",
   "id": "406b461f",
   "metadata": {},
   "source": [
    "#### If 50 students, probability is 0.818"
   ]
  },
  {
   "cell_type": "code",
   "execution_count": 169,
   "id": "60e03127",
   "metadata": {},
   "outputs": [
    {
     "data": {
      "text/plain": [
       "array([[0.52084839, 0.97385308, 0.04909355, ..., 0.23924993, 0.73535178,\n",
       "        0.47851349],\n",
       "       [0.8709363 , 0.61087479, 0.57870395, ..., 0.69030897, 0.39880567,\n",
       "        0.10426797],\n",
       "       [0.46756336, 0.80298349, 0.9964031 , ..., 0.94169969, 0.42439175,\n",
       "        0.0325202 ],\n",
       "       ...,\n",
       "       [0.58881683, 0.94354985, 0.19264057, ..., 0.14301358, 0.55764332,\n",
       "        0.12138923],\n",
       "       [0.27216366, 0.66067099, 0.6988434 , ..., 0.8274693 , 0.12203945,\n",
       "        0.54902727],\n",
       "       [0.21743419, 0.81769245, 0.22262857, ..., 0.20149499, 0.83568857,\n",
       "        0.05132862]])"
      ]
     },
     "execution_count": 169,
     "metadata": {},
     "output_type": "execute_result"
    }
   ],
   "source": [
    "inst100 = np.random.random(size = (sim_size,stu_2))\n",
    "inst100"
   ]
  },
  {
   "cell_type": "code",
   "execution_count": 170,
   "id": "c08a53ba",
   "metadata": {},
   "outputs": [
    {
     "data": {
      "text/plain": [
       "array([[False, False, False, ..., False, False, False],\n",
       "       [False, False, False, ..., False, False, False],\n",
       "       [False, False, False, ..., False, False, False],\n",
       "       ...,\n",
       "       [False, False, False, ..., False, False, False],\n",
       "       [False, False, False, ..., False, False, False],\n",
       "       [False, False, False, ..., False, False, False]])"
      ]
     },
     "execution_count": 170,
     "metadata": {},
     "output_type": "execute_result"
    }
   ],
   "source": [
    "p100 = inst100 < p_corr\n",
    "p100"
   ]
  },
  {
   "cell_type": "code",
   "execution_count": 172,
   "id": "38be976d",
   "metadata": {},
   "outputs": [
    {
     "data": {
      "text/plain": [
       "array([1, 0, 0, ..., 0, 0, 1])"
      ]
     },
     "execution_count": 172,
     "metadata": {},
     "output_type": "execute_result"
    }
   ],
   "source": [
    "sum_p100 = p100.sum(axis=1)\n",
    "sum_p100"
   ]
  },
  {
   "cell_type": "code",
   "execution_count": 173,
   "id": "fa376e4c",
   "metadata": {},
   "outputs": [
    {
     "data": {
      "text/plain": [
       "0.818104"
      ]
     },
     "execution_count": 173,
     "metadata": {},
     "output_type": "execute_result"
    }
   ],
   "source": [
    "(sum_p50 == 0).mean()"
   ]
  },
  {
   "cell_type": "code",
   "execution_count": null,
   "id": "8033e7a8",
   "metadata": {},
   "outputs": [],
   "source": [
    "#### If 100 students, probability is 0.818"
   ]
  },
  {
   "cell_type": "markdown",
   "id": "1252f359",
   "metadata": {},
   "source": [
    "### 7. There's a 70% chance on any given day that there will be at least one food truck at Travis Park. However, you haven't seen a food truck there in 3 days. \n",
    "- How unlikely is this?\n",
    "- How likely is it that a food truck will show up sometime this week?"
   ]
  },
  {
   "cell_type": "code",
   "execution_count": null,
   "id": "1b02d897",
   "metadata": {},
   "outputs": [],
   "source": []
  },
  {
   "cell_type": "code",
   "execution_count": null,
   "id": "423cd16e",
   "metadata": {},
   "outputs": [],
   "source": []
  },
  {
   "cell_type": "code",
   "execution_count": null,
   "id": "9cbc9849",
   "metadata": {},
   "outputs": [],
   "source": []
  },
  {
   "cell_type": "markdown",
   "id": "de68a810",
   "metadata": {},
   "source": [
    "### 8. If 23 people are in the same room, what are the odds that two of them share a birthday? What if it's 20 people? 40?"
   ]
  },
  {
   "cell_type": "code",
   "execution_count": null,
   "id": "31061aa5",
   "metadata": {},
   "outputs": [],
   "source": []
  },
  {
   "cell_type": "code",
   "execution_count": null,
   "id": "b72385d3",
   "metadata": {},
   "outputs": [],
   "source": []
  },
  {
   "cell_type": "code",
   "execution_count": null,
   "id": "8373397e",
   "metadata": {},
   "outputs": [],
   "source": []
  },
  {
   "cell_type": "code",
   "execution_count": null,
   "id": "19ddbdf6",
   "metadata": {},
   "outputs": [],
   "source": []
  }
 ],
 "metadata": {
  "kernelspec": {
   "display_name": "Python 3 (ipykernel)",
   "language": "python",
   "name": "python3"
  },
  "language_info": {
   "codemirror_mode": {
    "name": "ipython",
    "version": 3
   },
   "file_extension": ".py",
   "mimetype": "text/x-python",
   "name": "python",
   "nbconvert_exporter": "python",
   "pygments_lexer": "ipython3",
   "version": "3.9.12"
  }
 },
 "nbformat": 4,
 "nbformat_minor": 5
}
