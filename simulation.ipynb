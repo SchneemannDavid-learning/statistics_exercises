{
 "cells": [
  {
   "cell_type": "markdown",
   "id": "86a4249b",
   "metadata": {},
   "source": [
    "## Simulation Exercises"
   ]
  },
  {
   "cell_type": "code",
   "execution_count": 1,
   "id": "6a5c5e6f",
   "metadata": {},
   "outputs": [],
   "source": [
    "import numpy as np\n",
    "import pandas as pd\n",
    "import matplotlib.pyplot as plt\n",
    "\n",
    "import viz # curriculum example visualizations\n",
    "\n",
    "np.random.seed(29)"
   ]
  },
  {
   "cell_type": "markdown",
   "id": "aa1dba5b",
   "metadata": {},
   "source": [
    "### 1. How likely is it that you roll doubles when rolling two dice?"
   ]
  },
  {
   "cell_type": "code",
   "execution_count": 2,
   "id": "3c518c9e",
   "metadata": {},
   "outputs": [],
   "source": [
    "n_trials = nrows = 10000\n",
    "n_dice = ncols = 2"
   ]
  },
  {
   "cell_type": "code",
   "execution_count": 3,
   "id": "2a5fe77c",
   "metadata": {
    "scrolled": true
   },
   "outputs": [
    {
     "data": {
      "text/plain": [
       "array([[6, 4],\n",
       "       [5, 6],\n",
       "       [3, 1],\n",
       "       ...,\n",
       "       [2, 5],\n",
       "       [1, 4],\n",
       "       [4, 6]])"
      ]
     },
     "execution_count": 3,
     "metadata": {},
     "output_type": "execute_result"
    }
   ],
   "source": [
    "rolls = np.random.choice((\n",
    "    [1,2,3,4,5,6]), size = (n_trials, n_dice))\n",
    "rolls"
   ]
  },
  {
   "cell_type": "code",
   "execution_count": 4,
   "id": "85004e41",
   "metadata": {},
   "outputs": [
    {
     "data": {
      "text/plain": [
       "array([6, 5, 3, ..., 2, 1, 4])"
      ]
     },
     "execution_count": 4,
     "metadata": {},
     "output_type": "execute_result"
    }
   ],
   "source": [
    "rolls[:,0]"
   ]
  },
  {
   "cell_type": "code",
   "execution_count": 5,
   "id": "7214a23b",
   "metadata": {},
   "outputs": [
    {
     "data": {
      "text/plain": [
       "array([4, 6, 1, ..., 5, 4, 6])"
      ]
     },
     "execution_count": 5,
     "metadata": {},
     "output_type": "execute_result"
    }
   ],
   "source": [
    "rolls[:,1]"
   ]
  },
  {
   "cell_type": "code",
   "execution_count": 6,
   "id": "1e5668e9",
   "metadata": {},
   "outputs": [
    {
     "data": {
      "text/plain": [
       "array([False, False, False, ..., False, False, False])"
      ]
     },
     "execution_count": 6,
     "metadata": {},
     "output_type": "execute_result"
    }
   ],
   "source": [
    "rolls[:,0] == rolls[:,1]"
   ]
  },
  {
   "cell_type": "code",
   "execution_count": 7,
   "id": "41b0b1d9",
   "metadata": {},
   "outputs": [
    {
     "data": {
      "text/plain": [
       "0.1709"
      ]
     },
     "execution_count": 7,
     "metadata": {},
     "output_type": "execute_result"
    }
   ],
   "source": [
    "(rolls[:,0] == rolls[:,1]).mean()"
   ]
  },
  {
   "cell_type": "markdown",
   "id": "682ecce2",
   "metadata": {},
   "source": [
    "#### There is a 16.7% chance we roll doubles"
   ]
  },
  {
   "cell_type": "code",
   "execution_count": 8,
   "id": "a0c587b9",
   "metadata": {},
   "outputs": [
    {
     "data": {
      "text/html": [
       "<div>\n",
       "<style scoped>\n",
       "    .dataframe tbody tr th:only-of-type {\n",
       "        vertical-align: middle;\n",
       "    }\n",
       "\n",
       "    .dataframe tbody tr th {\n",
       "        vertical-align: top;\n",
       "    }\n",
       "\n",
       "    .dataframe thead th {\n",
       "        text-align: right;\n",
       "    }\n",
       "</style>\n",
       "<table border=\"1\" class=\"dataframe\">\n",
       "  <thead>\n",
       "    <tr style=\"text-align: right;\">\n",
       "      <th></th>\n",
       "      <th>0</th>\n",
       "      <th>1</th>\n",
       "    </tr>\n",
       "  </thead>\n",
       "  <tbody>\n",
       "    <tr>\n",
       "      <th>0</th>\n",
       "      <td>6</td>\n",
       "      <td>4</td>\n",
       "    </tr>\n",
       "    <tr>\n",
       "      <th>1</th>\n",
       "      <td>5</td>\n",
       "      <td>6</td>\n",
       "    </tr>\n",
       "    <tr>\n",
       "      <th>2</th>\n",
       "      <td>3</td>\n",
       "      <td>1</td>\n",
       "    </tr>\n",
       "    <tr>\n",
       "      <th>3</th>\n",
       "      <td>1</td>\n",
       "      <td>2</td>\n",
       "    </tr>\n",
       "    <tr>\n",
       "      <th>4</th>\n",
       "      <td>2</td>\n",
       "      <td>1</td>\n",
       "    </tr>\n",
       "    <tr>\n",
       "      <th>5</th>\n",
       "      <td>6</td>\n",
       "      <td>4</td>\n",
       "    </tr>\n",
       "    <tr>\n",
       "      <th>6</th>\n",
       "      <td>2</td>\n",
       "      <td>1</td>\n",
       "    </tr>\n",
       "    <tr>\n",
       "      <th>7</th>\n",
       "      <td>2</td>\n",
       "      <td>4</td>\n",
       "    </tr>\n",
       "    <tr>\n",
       "      <th>8</th>\n",
       "      <td>4</td>\n",
       "      <td>6</td>\n",
       "    </tr>\n",
       "    <tr>\n",
       "      <th>9</th>\n",
       "      <td>5</td>\n",
       "      <td>1</td>\n",
       "    </tr>\n",
       "    <tr>\n",
       "      <th>10</th>\n",
       "      <td>5</td>\n",
       "      <td>3</td>\n",
       "    </tr>\n",
       "    <tr>\n",
       "      <th>11</th>\n",
       "      <td>3</td>\n",
       "      <td>4</td>\n",
       "    </tr>\n",
       "    <tr>\n",
       "      <th>12</th>\n",
       "      <td>1</td>\n",
       "      <td>3</td>\n",
       "    </tr>\n",
       "    <tr>\n",
       "      <th>13</th>\n",
       "      <td>4</td>\n",
       "      <td>1</td>\n",
       "    </tr>\n",
       "    <tr>\n",
       "      <th>14</th>\n",
       "      <td>4</td>\n",
       "      <td>4</td>\n",
       "    </tr>\n",
       "    <tr>\n",
       "      <th>15</th>\n",
       "      <td>5</td>\n",
       "      <td>3</td>\n",
       "    </tr>\n",
       "    <tr>\n",
       "      <th>16</th>\n",
       "      <td>6</td>\n",
       "      <td>6</td>\n",
       "    </tr>\n",
       "    <tr>\n",
       "      <th>17</th>\n",
       "      <td>5</td>\n",
       "      <td>5</td>\n",
       "    </tr>\n",
       "    <tr>\n",
       "      <th>18</th>\n",
       "      <td>1</td>\n",
       "      <td>3</td>\n",
       "    </tr>\n",
       "    <tr>\n",
       "      <th>19</th>\n",
       "      <td>1</td>\n",
       "      <td>3</td>\n",
       "    </tr>\n",
       "    <tr>\n",
       "      <th>20</th>\n",
       "      <td>5</td>\n",
       "      <td>3</td>\n",
       "    </tr>\n",
       "    <tr>\n",
       "      <th>21</th>\n",
       "      <td>1</td>\n",
       "      <td>2</td>\n",
       "    </tr>\n",
       "    <tr>\n",
       "      <th>22</th>\n",
       "      <td>4</td>\n",
       "      <td>2</td>\n",
       "    </tr>\n",
       "    <tr>\n",
       "      <th>23</th>\n",
       "      <td>5</td>\n",
       "      <td>2</td>\n",
       "    </tr>\n",
       "    <tr>\n",
       "      <th>24</th>\n",
       "      <td>4</td>\n",
       "      <td>5</td>\n",
       "    </tr>\n",
       "  </tbody>\n",
       "</table>\n",
       "</div>"
      ],
      "text/plain": [
       "    0  1\n",
       "0   6  4\n",
       "1   5  6\n",
       "2   3  1\n",
       "3   1  2\n",
       "4   2  1\n",
       "5   6  4\n",
       "6   2  1\n",
       "7   2  4\n",
       "8   4  6\n",
       "9   5  1\n",
       "10  5  3\n",
       "11  3  4\n",
       "12  1  3\n",
       "13  4  1\n",
       "14  4  4\n",
       "15  5  3\n",
       "16  6  6\n",
       "17  5  5\n",
       "18  1  3\n",
       "19  1  3\n",
       "20  5  3\n",
       "21  1  2\n",
       "22  4  2\n",
       "23  5  2\n",
       "24  4  5"
      ]
     },
     "execution_count": 8,
     "metadata": {},
     "output_type": "execute_result"
    }
   ],
   "source": [
    "#another method: lambda\n",
    "pd.DataFrame(rolls).head(25)"
   ]
  },
  {
   "cell_type": "code",
   "execution_count": 9,
   "id": "31a97155",
   "metadata": {},
   "outputs": [],
   "source": [
    "df_rolls = pd.DataFrame(rolls).apply(lambda row: row[0] == row[1], axis=1).head(25)"
   ]
  },
  {
   "cell_type": "code",
   "execution_count": 10,
   "id": "2dfba367",
   "metadata": {},
   "outputs": [
    {
     "data": {
      "text/plain": [
       "0.12"
      ]
     },
     "execution_count": 10,
     "metadata": {},
     "output_type": "execute_result"
    }
   ],
   "source": [
    "df_rolls.mean()"
   ]
  },
  {
   "cell_type": "markdown",
   "id": "3175e645",
   "metadata": {},
   "source": [
    "### 2. If you flip 8 coins, what is the probability of getting exactly 3 heads? What is the probability of getting more than 3 heads?"
   ]
  },
  {
   "cell_type": "code",
   "execution_count": 11,
   "id": "373cb031",
   "metadata": {},
   "outputs": [],
   "source": [
    "# heads = 1\n",
    "# tails = 0\n",
    "\n",
    "coin_toss = [1,0]\n",
    "flip_times = 8\n",
    "sim_size = 1000000"
   ]
  },
  {
   "cell_type": "code",
   "execution_count": 12,
   "id": "2f232353",
   "metadata": {},
   "outputs": [
    {
     "data": {
      "text/plain": [
       "array([[1, 1, 1, ..., 1, 0, 0],\n",
       "       [1, 1, 0, ..., 0, 0, 1],\n",
       "       [0, 1, 0, ..., 0, 0, 0],\n",
       "       ...,\n",
       "       [1, 1, 0, ..., 1, 1, 1],\n",
       "       [1, 1, 0, ..., 1, 1, 0],\n",
       "       [0, 0, 1, ..., 0, 1, 0]])"
      ]
     },
     "execution_count": 12,
     "metadata": {},
     "output_type": "execute_result"
    }
   ],
   "source": [
    "coin_8 = np.random.choice(coin_toss, size = (sim_size,flip_times))\n",
    "coin_8"
   ]
  },
  {
   "cell_type": "code",
   "execution_count": 13,
   "id": "a9cdeb2d",
   "metadata": {},
   "outputs": [
    {
     "data": {
      "text/plain": [
       "array([5, 3, 2, ..., 5, 5, 2])"
      ]
     },
     "execution_count": 13,
     "metadata": {},
     "output_type": "execute_result"
    }
   ],
   "source": [
    "heads = coin_8.sum(axis=1)\n",
    "heads"
   ]
  },
  {
   "cell_type": "code",
   "execution_count": 14,
   "id": "8aae9a9b",
   "metadata": {},
   "outputs": [],
   "source": [
    "three_heads = (heads == 3)\n",
    "more_than_three_heads = (heads > 3)"
   ]
  },
  {
   "cell_type": "code",
   "execution_count": 15,
   "id": "bef29b39",
   "metadata": {},
   "outputs": [
    {
     "data": {
      "text/plain": [
       "0.2189"
      ]
     },
     "execution_count": 15,
     "metadata": {},
     "output_type": "execute_result"
    }
   ],
   "source": [
    "three_heads.mean()"
   ]
  },
  {
   "cell_type": "markdown",
   "id": "1de15217",
   "metadata": {},
   "source": [
    "#### Probability of exactly three heads = 0.219"
   ]
  },
  {
   "cell_type": "code",
   "execution_count": 16,
   "id": "72d6f7ae",
   "metadata": {},
   "outputs": [
    {
     "data": {
      "text/plain": [
       "0.636661"
      ]
     },
     "execution_count": 16,
     "metadata": {},
     "output_type": "execute_result"
    }
   ],
   "source": [
    "more_than_three_heads.mean()"
   ]
  },
  {
   "cell_type": "markdown",
   "id": "9c720497",
   "metadata": {},
   "source": [
    "#### Probability of more than three heads = 0.637"
   ]
  },
  {
   "cell_type": "markdown",
   "id": "99b7a2e6",
   "metadata": {},
   "source": [
    "### 3. There are approximitely 3 web development cohorts for every 1 data science cohort at Codeup. Assuming that Codeup randomly selects an alumni to put on a billboard, what are the odds that the two billboards I drive past both have data science students on them?"
   ]
  },
  {
   "cell_type": "markdown",
   "id": "8f41940f",
   "metadata": {},
   "source": [
    "1 of every 4 cohorts is data science; thus, the probability of choosing a student from a data science cohort is: 1/4 or 0.25"
   ]
  },
  {
   "cell_type": "code",
   "execution_count": 17,
   "id": "bedcf5f9",
   "metadata": {},
   "outputs": [],
   "source": [
    "p_data_stu = 0.25\n",
    "sim_size = 1000000"
   ]
  },
  {
   "cell_type": "code",
   "execution_count": 18,
   "id": "2ce866f2",
   "metadata": {},
   "outputs": [
    {
     "data": {
      "text/plain": [
       "array([[0.80808238, 0.30730607],\n",
       "       [0.62843761, 0.57475089],\n",
       "       [0.87158667, 0.4590678 ],\n",
       "       ...,\n",
       "       [0.09351186, 0.10381401],\n",
       "       [0.05081495, 0.04506325],\n",
       "       [0.24660764, 0.84122846]])"
      ]
     },
     "execution_count": 18,
     "metadata": {},
     "output_type": "execute_result"
    }
   ],
   "source": [
    "# 2 billboards, 2 opportunities\n",
    "drive_past_board = n_cols = 2\n",
    "\n",
    "drive_by = np.random.random((sim_size,drive_past_board))\n",
    "drive_by"
   ]
  },
  {
   "cell_type": "code",
   "execution_count": 19,
   "id": "1663b279",
   "metadata": {},
   "outputs": [
    {
     "data": {
      "text/plain": [
       "array([[False, False],\n",
       "       [False, False],\n",
       "       [False, False],\n",
       "       ...,\n",
       "       [ True,  True],\n",
       "       [ True,  True],\n",
       "       [ True, False]])"
      ]
     },
     "execution_count": 19,
     "metadata": {},
     "output_type": "execute_result"
    }
   ],
   "source": [
    "is_data_stu = drive_by < p_data_stu\n",
    "is_data_stu"
   ]
  },
  {
   "cell_type": "code",
   "execution_count": 20,
   "id": "52d79751",
   "metadata": {},
   "outputs": [
    {
     "data": {
      "text/plain": [
       "0.062335"
      ]
     },
     "execution_count": 20,
     "metadata": {},
     "output_type": "execute_result"
    }
   ],
   "source": [
    "(is_data_stu.sum(axis=1) == 2).mean()"
   ]
  },
  {
   "cell_type": "code",
   "execution_count": 118,
   "id": "d9a3aac5",
   "metadata": {},
   "outputs": [
    {
     "data": {
      "text/plain": [
       "0.0625"
      ]
     },
     "execution_count": 118,
     "metadata": {},
     "output_type": "execute_result"
    }
   ],
   "source": [
    "# theoretical prob\n",
    "0.25 * 0.25"
   ]
  },
  {
   "cell_type": "markdown",
   "id": "fea97fe9",
   "metadata": {},
   "source": [
    "#### Probability that both billboards have ds students on them: 0.062"
   ]
  },
  {
   "cell_type": "markdown",
   "id": "5062db93",
   "metadata": {},
   "source": [
    "### 4. Codeup students buy, on average, 3 poptart packages with a standard deviation of 1.5 a day from the snack vending machine. If on monday the machine is restocked with 17 poptart packages, how likely is it that I will be able to buy some poptarts on Friday afternoon? (Remember, if you have mean and standard deviation, use the np.random.normal) You'll need to make a judgement call on how to handle some of your values"
   ]
  },
  {
   "cell_type": "code",
   "execution_count": 21,
   "id": "385435ce",
   "metadata": {},
   "outputs": [],
   "source": [
    "mean = 3\n",
    "std = 1.5\n",
    "days = 4\n",
    "sim_size = 1000000"
   ]
  },
  {
   "cell_type": "code",
   "execution_count": 119,
   "id": "fd0d5b0e",
   "metadata": {},
   "outputs": [
    {
     "data": {
      "text/plain": [
       "array([[ 0.83106838, -0.36462749,  0.21165029,  6.68395751,  5.1681002 ],\n",
       "       [ 2.36054514,  2.23890054,  3.70139416,  1.4737922 ,  4.52703556],\n",
       "       [ 5.61556893,  3.67569018, -1.37939889,  2.86906227,  6.02606414],\n",
       "       ...,\n",
       "       [ 1.58370278,  1.61952558,  3.85459416,  5.87421609,  2.94274881],\n",
       "       [ 3.86539997,  3.19849574,  0.70281375,  2.52204717,  5.98385745],\n",
       "       [ 3.1984542 ,  2.06470384,  5.31781487,  2.34680425,  2.51030563]])"
      ]
     },
     "execution_count": 119,
     "metadata": {},
     "output_type": "execute_result"
    }
   ],
   "source": [
    "poptart = np.random.normal(mean,std,size = (sim_size,5))\n",
    "poptart"
   ]
  },
  {
   "cell_type": "code",
   "execution_count": 120,
   "id": "8f660961",
   "metadata": {
    "scrolled": true
   },
   "outputs": [
    {
     "data": {
      "text/plain": [
       "array([12.53014889, 14.3016676 , 16.80698664, ..., 15.87478741,\n",
       "       16.27261408, 15.43808279])"
      ]
     },
     "execution_count": 120,
     "metadata": {},
     "output_type": "execute_result"
    }
   ],
   "source": [
    "poptart_sum = poptart.sum(axis=1) \n",
    "poptart_sum"
   ]
  },
  {
   "cell_type": "code",
   "execution_count": 121,
   "id": "8db67b72",
   "metadata": {},
   "outputs": [
    {
     "data": {
      "text/plain": [
       "array([ True,  True,  True, ...,  True,  True,  True])"
      ]
     },
     "execution_count": 121,
     "metadata": {},
     "output_type": "execute_result"
    }
   ],
   "source": [
    "p_poptart = poptart_sum < 17\n",
    "p_poptart"
   ]
  },
  {
   "cell_type": "code",
   "execution_count": 122,
   "id": "cb82b0aa",
   "metadata": {},
   "outputs": [
    {
     "data": {
      "text/plain": [
       "0.724695"
      ]
     },
     "execution_count": 122,
     "metadata": {},
     "output_type": "execute_result"
    }
   ],
   "source": [
    "p_poptart.mean()"
   ]
  },
  {
   "cell_type": "markdown",
   "id": "f41fbd42",
   "metadata": {},
   "source": [
    "#### Probability that I'll be able to by a poptart on Friday afternoon: 0.725"
   ]
  },
  {
   "cell_type": "markdown",
   "id": "f1eb0f6c",
   "metadata": {},
   "source": [
    "### 5. Compare Heights\n",
    "- Men have an average height of 178 cm and standard deviation of 8cm.\n",
    "- Women have a mean of 170, sd = 6cm.\n",
    "- Since you have means and standard deviations, you can use np.random.normal to generate observations.\n",
    "- If a man and woman are chosen at random, what is the likelihood the woman is taller than the man?"
   ]
  },
  {
   "cell_type": "code",
   "execution_count": 25,
   "id": "1bfbbb17",
   "metadata": {},
   "outputs": [],
   "source": [
    "m_mean = 178\n",
    "m_std = 8\n",
    "\n",
    "w_mean = 170\n",
    "w_std = 6\n",
    "\n",
    "sim_size = 1000000"
   ]
  },
  {
   "cell_type": "code",
   "execution_count": 26,
   "id": "7f7043f1",
   "metadata": {},
   "outputs": [
    {
     "data": {
      "text/plain": [
       "array([164.63769545, 190.74711258, 176.94142316, ..., 174.47613533,\n",
       "       167.28918983, 176.50138938])"
      ]
     },
     "execution_count": 26,
     "metadata": {},
     "output_type": "execute_result"
    }
   ],
   "source": [
    "men = np.random.normal(m_mean,m_std,sim_size)\n",
    "men"
   ]
  },
  {
   "cell_type": "code",
   "execution_count": 27,
   "id": "b2fbaa1b",
   "metadata": {},
   "outputs": [
    {
     "data": {
      "text/plain": [
       "178.00672513085112"
      ]
     },
     "execution_count": 27,
     "metadata": {},
     "output_type": "execute_result"
    }
   ],
   "source": [
    "men.mean()"
   ]
  },
  {
   "cell_type": "code",
   "execution_count": 28,
   "id": "28bcf8df",
   "metadata": {},
   "outputs": [
    {
     "data": {
      "text/plain": [
       "array([165.51492677, 170.06131423, 165.82991616, ..., 172.5340187 ,\n",
       "       155.35719257, 173.00874032])"
      ]
     },
     "execution_count": 28,
     "metadata": {},
     "output_type": "execute_result"
    }
   ],
   "source": [
    "women = np.random.normal(w_mean,w_std,sim_size)\n",
    "women"
   ]
  },
  {
   "cell_type": "code",
   "execution_count": 29,
   "id": "d4323b9a",
   "metadata": {},
   "outputs": [
    {
     "data": {
      "text/plain": [
       "170.00406325532452"
      ]
     },
     "execution_count": 29,
     "metadata": {},
     "output_type": "execute_result"
    }
   ],
   "source": [
    "women.mean()"
   ]
  },
  {
   "cell_type": "code",
   "execution_count": 30,
   "id": "bf9e9d95",
   "metadata": {},
   "outputs": [
    {
     "data": {
      "text/plain": [
       "array([ True, False, False, ..., False, False, False])"
      ]
     },
     "execution_count": 30,
     "metadata": {},
     "output_type": "execute_result"
    }
   ],
   "source": [
    "p_w_t_m = women > men\n",
    "p_w_t_m"
   ]
  },
  {
   "cell_type": "code",
   "execution_count": 31,
   "id": "1fd405df",
   "metadata": {},
   "outputs": [
    {
     "data": {
      "text/plain": [
       "0.211762"
      ]
     },
     "execution_count": 31,
     "metadata": {},
     "output_type": "execute_result"
    }
   ],
   "source": [
    "p_w_t_m.mean()"
   ]
  },
  {
   "cell_type": "markdown",
   "id": "8e12c483",
   "metadata": {},
   "source": [
    "#### 0.21 probability the woman is taller than the man"
   ]
  },
  {
   "cell_type": "markdown",
   "id": "50dcc2ab",
   "metadata": {},
   "source": [
    "### 6. When installing anaconda on a student's computer, there's a 1 in 250 chance that the download is corrupted and the installation fails. \n",
    "- What are the odds that after having 50 students download anaconda, no one has an installation issue? 100 students?\n",
    "\n",
    "- What is the probability that we observe an installation issue within the first 150 students that download anaconda?\n",
    "\n",
    "- How likely is it that 450 students all download anaconda without an issue?"
   ]
  },
  {
   "cell_type": "code",
   "execution_count": 34,
   "id": "29a9c326",
   "metadata": {},
   "outputs": [],
   "source": [
    "# fail = 0\n",
    "# succeed = 1\n",
    "\n",
    "stu_1 = 50\n",
    "stu_2 = 100\n",
    "p_corr = 1/250\n",
    "sim_size = 1000000"
   ]
  },
  {
   "cell_type": "code",
   "execution_count": 67,
   "id": "6fbea380",
   "metadata": {
    "scrolled": true
   },
   "outputs": [
    {
     "data": {
      "text/plain": [
       "array([[0, 0, 0, ..., 0, 0, 0],\n",
       "       [0, 0, 0, ..., 0, 0, 0],\n",
       "       [0, 0, 0, ..., 0, 0, 0],\n",
       "       ...,\n",
       "       [0, 0, 0, ..., 0, 0, 0],\n",
       "       [0, 0, 0, ..., 0, 0, 0],\n",
       "       [0, 0, 0, ..., 0, 0, 0]])"
      ]
     },
     "execution_count": 67,
     "metadata": {},
     "output_type": "execute_result"
    }
   ],
   "source": [
    "inst50 = np.random.choice([0,1], p=[0.996, 0.004], size = (sim_size,stu_1))\n",
    "inst50"
   ]
  },
  {
   "cell_type": "code",
   "execution_count": 124,
   "id": "f46ea1eb",
   "metadata": {},
   "outputs": [
    {
     "data": {
      "text/plain": [
       "0.818269"
      ]
     },
     "execution_count": 124,
     "metadata": {},
     "output_type": "execute_result"
    }
   ],
   "source": [
    "success = (inst50.sum(axis=1) ==0).mean()\n",
    "success"
   ]
  },
  {
   "cell_type": "markdown",
   "id": "406b461f",
   "metadata": {},
   "source": [
    "#### If 50 students, probability is 0.818"
   ]
  },
  {
   "cell_type": "code",
   "execution_count": 69,
   "id": "60e03127",
   "metadata": {},
   "outputs": [
    {
     "data": {
      "text/plain": [
       "array([[0, 0, 0, ..., 0, 0, 0],\n",
       "       [0, 0, 0, ..., 0, 0, 0],\n",
       "       [0, 0, 0, ..., 0, 0, 0],\n",
       "       ...,\n",
       "       [0, 0, 0, ..., 0, 0, 0],\n",
       "       [0, 0, 0, ..., 0, 0, 0],\n",
       "       [0, 0, 0, ..., 0, 0, 0]])"
      ]
     },
     "execution_count": 69,
     "metadata": {},
     "output_type": "execute_result"
    }
   ],
   "source": [
    "inst100 = np.random.choice([0,1], p=[0.996, 0.004], size = (sim_size,stu_2))\n",
    "inst100"
   ]
  },
  {
   "cell_type": "code",
   "execution_count": 123,
   "id": "8a35203c",
   "metadata": {},
   "outputs": [
    {
     "data": {
      "text/plain": [
       "0.66933"
      ]
     },
     "execution_count": 123,
     "metadata": {},
     "output_type": "execute_result"
    }
   ],
   "source": [
    "success100 = (inst100.sum(axis=1) == 0).mean()\n",
    "success100"
   ]
  },
  {
   "cell_type": "markdown",
   "id": "c19b9dd7",
   "metadata": {},
   "source": [
    "#### If 100 students, probability is 0.669"
   ]
  },
  {
   "cell_type": "code",
   "execution_count": 50,
   "id": "fb6d510a",
   "metadata": {},
   "outputs": [],
   "source": [
    "stu_3 = 150\n",
    "stu_4 = 450"
   ]
  },
  {
   "cell_type": "code",
   "execution_count": 51,
   "id": "d6dc523c",
   "metadata": {},
   "outputs": [
    {
     "data": {
      "text/plain": [
       "array([[0, 0, 0, ..., 0, 0, 0],\n",
       "       [0, 0, 0, ..., 0, 0, 0],\n",
       "       [0, 0, 0, ..., 0, 0, 0],\n",
       "       ...,\n",
       "       [0, 0, 0, ..., 0, 0, 0],\n",
       "       [0, 0, 0, ..., 0, 0, 0],\n",
       "       [0, 0, 0, ..., 0, 0, 0]])"
      ]
     },
     "execution_count": 51,
     "metadata": {},
     "output_type": "execute_result"
    }
   ],
   "source": [
    "inst150 = np.random.choice([0,1], p=[0.996, 0.004], size = (sim_size,stu_3))\n",
    "inst150"
   ]
  },
  {
   "cell_type": "code",
   "execution_count": 125,
   "id": "6c2a9249",
   "metadata": {},
   "outputs": [
    {
     "data": {
      "text/plain": [
       "0.548114"
      ]
     },
     "execution_count": 125,
     "metadata": {},
     "output_type": "execute_result"
    }
   ],
   "source": [
    "success150 = (inst150.sum(axis=1) ==0).mean()\n",
    "success150"
   ]
  },
  {
   "cell_type": "markdown",
   "id": "af8be93e",
   "metadata": {},
   "source": [
    "#### If 150 students, probability is 0.548"
   ]
  },
  {
   "cell_type": "code",
   "execution_count": 59,
   "id": "7dfcb8c1",
   "metadata": {},
   "outputs": [
    {
     "data": {
      "text/plain": [
       "array([[0, 0, 0, ..., 0, 0, 0],\n",
       "       [0, 0, 0, ..., 0, 0, 0],\n",
       "       [0, 0, 0, ..., 0, 0, 0],\n",
       "       ...,\n",
       "       [0, 0, 0, ..., 0, 0, 0],\n",
       "       [0, 0, 0, ..., 0, 0, 0],\n",
       "       [0, 0, 0, ..., 0, 0, 0]])"
      ]
     },
     "execution_count": 59,
     "metadata": {},
     "output_type": "execute_result"
    }
   ],
   "source": [
    "inst450 = np.random.choice([0,1], p=[0.996, 0.004], size = (sim_size,stu_4))\n",
    "inst450"
   ]
  },
  {
   "cell_type": "code",
   "execution_count": 126,
   "id": "8a9aa201",
   "metadata": {},
   "outputs": [
    {
     "data": {
      "text/plain": [
       "0.165107"
      ]
     },
     "execution_count": 126,
     "metadata": {},
     "output_type": "execute_result"
    }
   ],
   "source": [
    "success_450 = (inst450.sum(axis=1) == 0).mean()\n",
    "success_450"
   ]
  },
  {
   "cell_type": "markdown",
   "id": "1f5b74c2",
   "metadata": {},
   "source": [
    "#### If 450 students, probability is 0.165"
   ]
  },
  {
   "cell_type": "markdown",
   "id": "1252f359",
   "metadata": {},
   "source": [
    "### 7. There's a 70% chance on any given day that there will be at least one food truck at Travis Park. However, you haven't seen a food truck there in 3 days. \n",
    "- How unlikely is this?\n",
    "- How likely is it that a food truck will show up sometime this week?"
   ]
  },
  {
   "cell_type": "code",
   "execution_count": 61,
   "id": "1b02d897",
   "metadata": {},
   "outputs": [],
   "source": [
    "p_ft = .7\n",
    "sim_size = 1000000\n",
    "days = 3"
   ]
  },
  {
   "cell_type": "code",
   "execution_count": 72,
   "id": "423cd16e",
   "metadata": {},
   "outputs": [
    {
     "data": {
      "text/plain": [
       "array([[0.19916982, 0.03316647, 0.81756583],\n",
       "       [0.28272749, 0.84301437, 0.73888357],\n",
       "       [0.62899206, 0.73115379, 0.41204914],\n",
       "       ...,\n",
       "       [0.15010693, 0.74441698, 0.73886964],\n",
       "       [0.8835463 , 0.52537809, 0.77104546],\n",
       "       [0.63100106, 0.83947662, 0.14702443]])"
      ]
     },
     "execution_count": 72,
     "metadata": {},
     "output_type": "execute_result"
    }
   ],
   "source": [
    "days_3 = np.random.random((sim_size, days))\n",
    "days_3"
   ]
  },
  {
   "cell_type": "code",
   "execution_count": 76,
   "id": "9cbc9849",
   "metadata": {},
   "outputs": [
    {
     "data": {
      "text/plain": [
       "array([[ True,  True, False],\n",
       "       [ True, False, False],\n",
       "       [ True, False,  True],\n",
       "       ...,\n",
       "       [ True, False, False],\n",
       "       [False,  True, False],\n",
       "       [ True, False,  True]])"
      ]
     },
     "execution_count": 76,
     "metadata": {},
     "output_type": "execute_result"
    }
   ],
   "source": [
    "ftp = days_3 < p_ft\n",
    "ftp"
   ]
  },
  {
   "cell_type": "code",
   "execution_count": 78,
   "id": "fc881e72",
   "metadata": {},
   "outputs": [
    {
     "data": {
      "text/plain": [
       "0.189077"
      ]
     },
     "execution_count": 78,
     "metadata": {},
     "output_type": "execute_result"
    }
   ],
   "source": [
    "(ftp.sum(axis=1) == 1).mean()"
   ]
  },
  {
   "cell_type": "markdown",
   "id": "b49d05d4",
   "metadata": {},
   "source": [
    "#### The likelihood of not seeing a food truck in 3 days is: 0.189"
   ]
  },
  {
   "cell_type": "code",
   "execution_count": 132,
   "id": "dd996768",
   "metadata": {},
   "outputs": [
    {
     "data": {
      "text/plain": [
       "array([[0.02988161, 0.4881583 , 0.02358047],\n",
       "       [0.90367545, 0.82425685, 0.26821217],\n",
       "       [0.5154022 , 0.02632868, 0.43241795],\n",
       "       ...,\n",
       "       [0.32041781, 0.78002845, 0.67842199],\n",
       "       [0.3003452 , 0.70348279, 0.93682083],\n",
       "       [0.97627151, 0.32393739, 0.64490904]])"
      ]
     },
     "execution_count": 132,
     "metadata": {},
     "output_type": "execute_result"
    }
   ],
   "source": [
    "days_5 = np.random.random((sim_size, 3))\n",
    "days_5\n"
   ]
  },
  {
   "cell_type": "code",
   "execution_count": 133,
   "id": "aa71601d",
   "metadata": {},
   "outputs": [
    {
     "data": {
      "text/plain": [
       "array([[ True,  True,  True],\n",
       "       [False, False,  True],\n",
       "       [ True,  True,  True],\n",
       "       ...,\n",
       "       [ True, False,  True],\n",
       "       [ True, False, False],\n",
       "       [False,  True,  True]])"
      ]
     },
     "execution_count": 133,
     "metadata": {},
     "output_type": "execute_result"
    }
   ],
   "source": [
    "ftp_w = days_5 < p_ft\n",
    "ftp_w"
   ]
  },
  {
   "cell_type": "code",
   "execution_count": 134,
   "id": "7f3fc58c",
   "metadata": {},
   "outputs": [
    {
     "data": {
      "text/plain": [
       "0.973006"
      ]
     },
     "execution_count": 134,
     "metadata": {},
     "output_type": "execute_result"
    }
   ],
   "source": [
    "(ftp_w.sum(axis=1) >= 1).mean()"
   ]
  },
  {
   "cell_type": "markdown",
   "id": "3044c535",
   "metadata": {},
   "source": [
    "#### Probability of not seeing a food truck all week: 0.97"
   ]
  },
  {
   "cell_type": "markdown",
   "id": "de68a810",
   "metadata": {},
   "source": [
    "### 8. If 23 people are in the same room, what are the odds that two of them share a birthday? What if it's 20 people? 40?"
   ]
  },
  {
   "cell_type": "code",
   "execution_count": 94,
   "id": "31061aa5",
   "metadata": {},
   "outputs": [],
   "source": [
    "p_bday = 1/365\n",
    "sim_size = 1_000_000\n",
    "ppl = 23"
   ]
  },
  {
   "cell_type": "code",
   "execution_count": 136,
   "id": "a16abefb",
   "metadata": {},
   "outputs": [
    {
     "data": {
      "text/plain": [
       "array([[ 59,  53, 340, ...,  19,  80,  52],\n",
       "       [123, 129, 195, ..., 352, 134, 280],\n",
       "       [106, 105, 337, ...,  75,  27, 164],\n",
       "       ...,\n",
       "       [ 77,  15,  32, ..., 320, 353,  51],\n",
       "       [215, 266, 123, ...,  71, 305, 159],\n",
       "       [188, 225,  51, ..., 259,  35,  79]])"
      ]
     },
     "execution_count": 136,
     "metadata": {},
     "output_type": "execute_result"
    }
   ],
   "source": [
    "### Rav's solution:\n",
    "\n",
    "bd = np.random.choice(range(1,366), size = (10000, 23))\n",
    "bd"
   ]
  },
  {
   "cell_type": "code",
   "execution_count": 137,
   "id": "9ca3b13b",
   "metadata": {},
   "outputs": [
    {
     "data": {
      "text/plain": [
       "0.5032"
      ]
     },
     "execution_count": 137,
     "metadata": {},
     "output_type": "execute_result"
    }
   ],
   "source": [
    "(pd.DataFrame(bd).nunique(axis = 1) < 23).mean()"
   ]
  },
  {
   "cell_type": "markdown",
   "id": "23c8c821",
   "metadata": {},
   "source": [
    "#### Out of 23 ppl, probability 2 share a bday: 0.5032"
   ]
  },
  {
   "cell_type": "code",
   "execution_count": 145,
   "id": "19ddbdf6",
   "metadata": {},
   "outputs": [
    {
     "data": {
      "text/plain": [
       "array([[ 59,  53, 340, ...,  19,  80,  52],\n",
       "       [123, 129, 195, ..., 352, 134, 280],\n",
       "       [106, 105, 337, ...,  75,  27, 164],\n",
       "       ...,\n",
       "       [ 77,  15,  32, ..., 320, 353,  51],\n",
       "       [215, 266, 123, ...,  71, 305, 159],\n",
       "       [188, 225,  51, ..., 259,  35,  79]])"
      ]
     },
     "execution_count": 145,
     "metadata": {},
     "output_type": "execute_result"
    }
   ],
   "source": [
    "bd_20 = np.random.choice(range(1,366), size = (10000, 20))\n",
    "bd"
   ]
  },
  {
   "cell_type": "code",
   "execution_count": 146,
   "id": "c55e4a24",
   "metadata": {},
   "outputs": [
    {
     "data": {
      "text/plain": [
       "0.4125"
      ]
     },
     "execution_count": 146,
     "metadata": {},
     "output_type": "execute_result"
    }
   ],
   "source": [
    "(pd.DataFrame(bd_20).nunique(axis = 1) < 20).mean()"
   ]
  },
  {
   "cell_type": "markdown",
   "id": "2129f32a",
   "metadata": {},
   "source": [
    "#### Out of 20 ppl, prob is 0.4125"
   ]
  },
  {
   "cell_type": "code",
   "execution_count": 143,
   "id": "46de768d",
   "metadata": {},
   "outputs": [
    {
     "data": {
      "text/plain": [
       "array([[ 59,  53, 340, ...,  19,  80,  52],\n",
       "       [123, 129, 195, ..., 352, 134, 280],\n",
       "       [106, 105, 337, ...,  75,  27, 164],\n",
       "       ...,\n",
       "       [ 77,  15,  32, ..., 320, 353,  51],\n",
       "       [215, 266, 123, ...,  71, 305, 159],\n",
       "       [188, 225,  51, ..., 259,  35,  79]])"
      ]
     },
     "execution_count": 143,
     "metadata": {},
     "output_type": "execute_result"
    }
   ],
   "source": [
    "bd_40 = np.random.choice(range(1,366), size = (10000, 40))\n",
    "bd"
   ]
  },
  {
   "cell_type": "code",
   "execution_count": 144,
   "id": "ae1f0cbd",
   "metadata": {},
   "outputs": [
    {
     "data": {
      "text/plain": [
       "0.8881"
      ]
     },
     "execution_count": 144,
     "metadata": {},
     "output_type": "execute_result"
    }
   ],
   "source": [
    "(pd.DataFrame(bd_40).nunique(axis = 1) < 40).mean()"
   ]
  },
  {
   "cell_type": "markdown",
   "id": "91a49320",
   "metadata": {},
   "source": [
    "#### Out of 40 ppl, prob is 0.888"
   ]
  }
 ],
 "metadata": {
  "kernelspec": {
   "display_name": "Python 3 (ipykernel)",
   "language": "python",
   "name": "python3"
  },
  "language_info": {
   "codemirror_mode": {
    "name": "ipython",
    "version": 3
   },
   "file_extension": ".py",
   "mimetype": "text/x-python",
   "name": "python",
   "nbconvert_exporter": "python",
   "pygments_lexer": "ipython3",
   "version": "3.9.12"
  }
 },
 "nbformat": 4,
 "nbformat_minor": 5
}
