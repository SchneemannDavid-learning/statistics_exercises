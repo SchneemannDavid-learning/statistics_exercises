{
 "cells": [
  {
   "cell_type": "markdown",
   "id": "54d76ebc",
   "metadata": {},
   "source": [
    "# Hypothesis Testing Exercise"
   ]
  },
  {
   "cell_type": "markdown",
   "id": "7cfaeda3",
   "metadata": {},
   "source": [
    "By Lindy Castellaw, Jessica Gardin, David Schneemann, Meredith Wang"
   ]
  },
  {
   "cell_type": "markdown",
   "id": "feaf7345",
   "metadata": {},
   "source": [
    "# 1 Has the network latency gone up since we switched internet service providers?"
   ]
  },
  {
   "cell_type": "markdown",
   "id": "edf1f106",
   "metadata": {},
   "source": [
    "H0 = Network latency is equal or has increased."
   ]
  },
  {
   "cell_type": "markdown",
   "id": "6c8ba891",
   "metadata": {},
   "source": [
    "Ha = Network Latency has decreased."
   ]
  },
  {
   "cell_type": "markdown",
   "id": "b608e0f5",
   "metadata": {},
   "source": [
    "True Positive\n",
    "\n",
    "    small p-value -- < alpha (.001)\n",
    "    reject 𝐻0\n",
    "\n",
    "    (The data shows that survey score did improve)\n",
    "    avg survey score before switching internet service: 65 ms\n",
    "    avg survey score after switching internet service: 60 ms\n",
    "\n",
    "False Positive\n",
    "\n",
    "    small p-value\n",
    "    reject 𝐻0\n",
    "    \n",
    "    avg survey score before switching internet service: 65 ms\n",
    "    avg survey score after switching internet service: 60 ms\n",
    "\n",
    "    test was re-taken while internet activity had significantly increased, causing an increase in ping time\n",
    "\n",
    "True Negative\n",
    "\n",
    "    higher p-value\n",
    "    fail to reject 𝐻0\n",
    "\n",
    "   \n",
    "    avg survey score before switching internet service: 65 ms\n",
    "    avg survey score after switching internet service: 60 ms\n",
    "\n",
    "False Negative\n",
    "\n",
    "    higher p-value\n",
    "    fail to reject 𝐻0\n",
    "    \n",
    "    test was originally taken while internet activity had significantly increased, causing an increase in ping time\n",
    "\n"
   ]
  },
  {
   "cell_type": "markdown",
   "id": "d50da751",
   "metadata": {},
   "source": [
    "# 2 Is the website redesign any good?"
   ]
  },
  {
   "cell_type": "markdown",
   "id": "a04b10a4",
   "metadata": {},
   "source": [
    "H0 = Website has same or fewer visits."
   ]
  },
  {
   "cell_type": "markdown",
   "id": "e8b34e7d",
   "metadata": {},
   "source": [
    "Ha = Website has more visits."
   ]
  },
  {
   "cell_type": "markdown",
   "id": "2c08d199",
   "metadata": {},
   "source": [
    "True Positive\n",
    "\n",
    "    small p-value -- < alpha (.001)\n",
    "    reject 𝐻0\n",
    "\n",
    "    (The data shows that redesign did improve the website)\n",
    "    avg visits before redesign: 1,000\n",
    "    avg visits after redesign: 5,000\n",
    "    \n",
    "    website design is genuinely better\n",
    "\n",
    "False Positive\n",
    "\n",
    "    small p-value\n",
    "    reject 𝐻0\n",
    "\n",
    "    avg visits before redesign: 1,000\n",
    "    avg visits after redesign: 5,000\n",
    "    \n",
    "    Second test was done on Cyber Monday\n",
    "\n",
    "True Negative\n",
    "\n",
    "    higher p-value\n",
    "    fail to reject 𝐻0\n",
    "\n",
    "    (The data shows that the website did worse after redesign)\n",
    "    avg visits before redesign: 5,000\n",
    "    avg visits after redesign: 1,000\n",
    "    \n",
    "    website is genuinely worse\n",
    "\n",
    "False Negative\n",
    "\n",
    "    higher p-value\n",
    "    fail to reject 𝐻0\n",
    "    \n",
    "    (The data shows that the website did worse after redesign)\n",
    "    avg visits before redesign: 5,000\n",
    "    avg visits after redesign: 1,000\n",
    "\n",
    "    website crashed during re-test"
   ]
  },
  {
   "cell_type": "markdown",
   "id": "81195282",
   "metadata": {},
   "source": [
    "# 3 Is our television ad driving more sales?"
   ]
  },
  {
   "cell_type": "markdown",
   "id": "4dea8af1",
   "metadata": {},
   "source": [
    "H0 = Monthly Avg sales stayed the same or decreased after airing ad"
   ]
  },
  {
   "cell_type": "markdown",
   "id": "552cc017",
   "metadata": {},
   "source": [
    "Ha = Monthly Avg sales increased after airing ad"
   ]
  },
  {
   "cell_type": "markdown",
   "id": "1026768f",
   "metadata": {},
   "source": [
    "True Positive\n",
    "\n",
    "    small p-value -- < alpha (.001)\n",
    "    reject 𝐻0\n",
    "\n",
    "    (The data shows that sales increased after airing ad)\n",
    "    avg monthly sales before ad: 10,000\n",
    "    avg monthly sales after ad: 15,000\n",
    "\n",
    "False Positive\n",
    "\n",
    "    small p-value\n",
    "    reject 𝐻0\n",
    "\n",
    "    (The data shows that sales increased after airing ad)\n",
    "    avg monthly sales before ad: 10,000\n",
    "    avg monthly sales after ad: 15,000\n",
    "    \n",
    "    competitor across street closed for second test\n",
    "\n",
    "True Negative\n",
    "\n",
    "    higher p-value\n",
    "    fail to reject 𝐻0\n",
    "\n",
    "    (The data shows that sales decreased after airing ad)\n",
    "    avg monthly sales before ad: 15,000\n",
    "    avg monthly sales after ad: 10,000\n",
    "\n",
    "False Negative\n",
    "\n",
    "    higher p-value\n",
    "    fail to reject 𝐻0\n",
    "    \n",
    "    (The data shows that sales decreased after airing ad)\n",
    "    avg monthly sales before ad: 15,000\n",
    "    avg monthly sales after ad: 10,000\n",
    "\n",
    "    extreme weather caused lower customer traffic "
   ]
  },
  {
   "cell_type": "code",
   "execution_count": 5,
   "id": "23571224",
   "metadata": {},
   "outputs": [],
   "source": [
    "import matplotlib.pyplot as plt\n",
    "import numpy as np\n",
    "import pandas as pd\n",
    "from scipy import stats"
   ]
  },
  {
   "cell_type": "markdown",
   "id": "ddf5fcb6",
   "metadata": {},
   "source": [
    "# T-Test Exercises"
   ]
  },
  {
   "cell_type": "markdown",
   "id": "53318744",
   "metadata": {},
   "source": [
    "Ace Realty wants to determine whether the average time it takes to sell homes is different for its two offices. A sample of 40 sales from office #1 revealed a mean of 90 days and a standard deviation of 15 days. A sample of 50 sales from office #2 revealed a mean of 100 days and a standard deviation of 20 days. Use a .05 level of significance."
   ]
  },
  {
   "cell_type": "code",
   "execution_count": 14,
   "id": "d7c789bd",
   "metadata": {},
   "outputs": [],
   "source": [
    "# Ho = sales of office 1 and 2 are equal (=)\n",
    "# Ha = sales of office 1 are different from office 2 (!=)\n",
    "\n",
    "mean1 = 90\n",
    "std1 = 15\n",
    "nobs1 = 40\n",
    "mean2 = 100\n",
    "std2 = 20\n",
    "nobs2 = 50\n",
    "alpha = 0.05"
   ]
  },
  {
   "cell_type": "code",
   "execution_count": 15,
   "id": "05540551",
   "metadata": {},
   "outputs": [],
   "source": [
    "t,p = stats.ttest_ind_from_stats(mean1, std1, nobs1, mean2, std2, nobs2, equal_var=True, alternative='two-sided')"
   ]
  },
  {
   "cell_type": "code",
   "execution_count": 16,
   "id": "ce4f61d4",
   "metadata": {},
   "outputs": [
    {
     "data": {
      "text/plain": [
       "(-2.6252287036468456, 0.01020985244923939, 0.05)"
      ]
     },
     "execution_count": 16,
     "metadata": {},
     "output_type": "execute_result"
    }
   ],
   "source": [
    "t, p, alpha"
   ]
  },
  {
   "cell_type": "code",
   "execution_count": 19,
   "id": "b5a1e139",
   "metadata": {},
   "outputs": [
    {
     "name": "stdout",
     "output_type": "stream",
     "text": [
      "We reject the null hypothesis\n"
     ]
    }
   ],
   "source": [
    "if p < alpha:\n",
    "    print(\"We reject the null hypothesis\")\n",
    "else:\n",
    "    print(\"We fail to reject the null hypothesis\")"
   ]
  },
  {
   "cell_type": "markdown",
   "id": "17dd8fc1",
   "metadata": {},
   "source": [
    "#### Load the mpg dataset and use it to answer the following questions:\n",
    "\n",
    "Is there a difference in fuel-efficiency in cars from 2008 vs 1999?\n",
    "Are compact cars more fuel-efficient than the average car?\n",
    "Do manual cars get better gas mileage than automatic cars?"
   ]
  },
  {
   "cell_type": "code",
   "execution_count": 2,
   "id": "d9a27f1f",
   "metadata": {},
   "outputs": [],
   "source": [
    "from pydataset import data"
   ]
  },
  {
   "cell_type": "code",
   "execution_count": 3,
   "id": "f4236df4",
   "metadata": {},
   "outputs": [
    {
     "name": "stdout",
     "output_type": "stream",
     "text": [
      "mpg\n",
      "\n",
      "PyDataset Documentation (adopted from R Documentation. The displayed examples are in R)\n",
      "\n",
      "## Fuel economy data from 1999 and 2008 for 38 popular models of car\n",
      "\n",
      "### Description\n",
      "\n",
      "This dataset contains a subset of the fuel economy data that the EPA makes\n",
      "available on http://fueleconomy.gov. It contains only models which had a new\n",
      "release every year between 1999 and 2008 - this was used as a proxy for the\n",
      "popularity of the car.\n",
      "\n",
      "### Usage\n",
      "\n",
      "    data(mpg)\n",
      "\n",
      "### Format\n",
      "\n",
      "A data frame with 234 rows and 11 variables\n",
      "\n",
      "### Details\n",
      "\n",
      "  * manufacturer. \n",
      "\n",
      "  * model. \n",
      "\n",
      "  * displ. engine displacement, in litres \n",
      "\n",
      "  * year. \n",
      "\n",
      "  * cyl. number of cylinders \n",
      "\n",
      "  * trans. type of transmission \n",
      "\n",
      "  * drv. f = front-wheel drive, r = rear wheel drive, 4 = 4wd \n",
      "\n",
      "  * cty. city miles per gallon \n",
      "\n",
      "  * hwy. highway miles per gallon \n",
      "\n",
      "  * fl. \n",
      "\n",
      "  * class. \n",
      "\n",
      "\n"
     ]
    }
   ],
   "source": [
    "data('mpg', show_doc=True) # view the documentation for the dataset\n",
    "mpg = data('mpg') # load the dataset and store it in a variable"
   ]
  },
  {
   "cell_type": "code",
   "execution_count": 4,
   "id": "099e5fd1",
   "metadata": {},
   "outputs": [
    {
     "data": {
      "text/html": [
       "<div>\n",
       "<style scoped>\n",
       "    .dataframe tbody tr th:only-of-type {\n",
       "        vertical-align: middle;\n",
       "    }\n",
       "\n",
       "    .dataframe tbody tr th {\n",
       "        vertical-align: top;\n",
       "    }\n",
       "\n",
       "    .dataframe thead th {\n",
       "        text-align: right;\n",
       "    }\n",
       "</style>\n",
       "<table border=\"1\" class=\"dataframe\">\n",
       "  <thead>\n",
       "    <tr style=\"text-align: right;\">\n",
       "      <th></th>\n",
       "      <th>manufacturer</th>\n",
       "      <th>model</th>\n",
       "      <th>displ</th>\n",
       "      <th>year</th>\n",
       "      <th>cyl</th>\n",
       "      <th>trans</th>\n",
       "      <th>drv</th>\n",
       "      <th>cty</th>\n",
       "      <th>hwy</th>\n",
       "      <th>fl</th>\n",
       "      <th>class</th>\n",
       "    </tr>\n",
       "  </thead>\n",
       "  <tbody>\n",
       "    <tr>\n",
       "      <th>1</th>\n",
       "      <td>audi</td>\n",
       "      <td>a4</td>\n",
       "      <td>1.8</td>\n",
       "      <td>1999</td>\n",
       "      <td>4</td>\n",
       "      <td>auto(l5)</td>\n",
       "      <td>f</td>\n",
       "      <td>18</td>\n",
       "      <td>29</td>\n",
       "      <td>p</td>\n",
       "      <td>compact</td>\n",
       "    </tr>\n",
       "    <tr>\n",
       "      <th>2</th>\n",
       "      <td>audi</td>\n",
       "      <td>a4</td>\n",
       "      <td>1.8</td>\n",
       "      <td>1999</td>\n",
       "      <td>4</td>\n",
       "      <td>manual(m5)</td>\n",
       "      <td>f</td>\n",
       "      <td>21</td>\n",
       "      <td>29</td>\n",
       "      <td>p</td>\n",
       "      <td>compact</td>\n",
       "    </tr>\n",
       "    <tr>\n",
       "      <th>3</th>\n",
       "      <td>audi</td>\n",
       "      <td>a4</td>\n",
       "      <td>2.0</td>\n",
       "      <td>2008</td>\n",
       "      <td>4</td>\n",
       "      <td>manual(m6)</td>\n",
       "      <td>f</td>\n",
       "      <td>20</td>\n",
       "      <td>31</td>\n",
       "      <td>p</td>\n",
       "      <td>compact</td>\n",
       "    </tr>\n",
       "    <tr>\n",
       "      <th>4</th>\n",
       "      <td>audi</td>\n",
       "      <td>a4</td>\n",
       "      <td>2.0</td>\n",
       "      <td>2008</td>\n",
       "      <td>4</td>\n",
       "      <td>auto(av)</td>\n",
       "      <td>f</td>\n",
       "      <td>21</td>\n",
       "      <td>30</td>\n",
       "      <td>p</td>\n",
       "      <td>compact</td>\n",
       "    </tr>\n",
       "    <tr>\n",
       "      <th>5</th>\n",
       "      <td>audi</td>\n",
       "      <td>a4</td>\n",
       "      <td>2.8</td>\n",
       "      <td>1999</td>\n",
       "      <td>6</td>\n",
       "      <td>auto(l5)</td>\n",
       "      <td>f</td>\n",
       "      <td>16</td>\n",
       "      <td>26</td>\n",
       "      <td>p</td>\n",
       "      <td>compact</td>\n",
       "    </tr>\n",
       "  </tbody>\n",
       "</table>\n",
       "</div>"
      ],
      "text/plain": [
       "  manufacturer model  displ  year  cyl       trans drv  cty  hwy fl    class\n",
       "1         audi    a4    1.8  1999    4    auto(l5)   f   18   29  p  compact\n",
       "2         audi    a4    1.8  1999    4  manual(m5)   f   21   29  p  compact\n",
       "3         audi    a4    2.0  2008    4  manual(m6)   f   20   31  p  compact\n",
       "4         audi    a4    2.0  2008    4    auto(av)   f   21   30  p  compact\n",
       "5         audi    a4    2.8  1999    6    auto(l5)   f   16   26  p  compact"
      ]
     },
     "execution_count": 4,
     "metadata": {},
     "output_type": "execute_result"
    }
   ],
   "source": [
    "mpg.head()"
   ]
  },
  {
   "cell_type": "code",
   "execution_count": 25,
   "id": "b82a707f",
   "metadata": {},
   "outputs": [
    {
     "data": {
      "text/html": [
       "<div>\n",
       "<style scoped>\n",
       "    .dataframe tbody tr th:only-of-type {\n",
       "        vertical-align: middle;\n",
       "    }\n",
       "\n",
       "    .dataframe tbody tr th {\n",
       "        vertical-align: top;\n",
       "    }\n",
       "\n",
       "    .dataframe thead th {\n",
       "        text-align: right;\n",
       "    }\n",
       "</style>\n",
       "<table border=\"1\" class=\"dataframe\">\n",
       "  <thead>\n",
       "    <tr style=\"text-align: right;\">\n",
       "      <th></th>\n",
       "      <th>manufacturer</th>\n",
       "      <th>model</th>\n",
       "      <th>displ</th>\n",
       "      <th>year</th>\n",
       "      <th>cyl</th>\n",
       "      <th>trans</th>\n",
       "      <th>drv</th>\n",
       "      <th>cty</th>\n",
       "      <th>hwy</th>\n",
       "      <th>fl</th>\n",
       "      <th>class</th>\n",
       "      <th>average_mileage</th>\n",
       "    </tr>\n",
       "  </thead>\n",
       "  <tbody>\n",
       "    <tr>\n",
       "      <th>1</th>\n",
       "      <td>audi</td>\n",
       "      <td>a4</td>\n",
       "      <td>1.8</td>\n",
       "      <td>1999</td>\n",
       "      <td>4</td>\n",
       "      <td>auto(l5)</td>\n",
       "      <td>f</td>\n",
       "      <td>18</td>\n",
       "      <td>29</td>\n",
       "      <td>p</td>\n",
       "      <td>compact</td>\n",
       "      <td>23.5</td>\n",
       "    </tr>\n",
       "    <tr>\n",
       "      <th>2</th>\n",
       "      <td>audi</td>\n",
       "      <td>a4</td>\n",
       "      <td>1.8</td>\n",
       "      <td>1999</td>\n",
       "      <td>4</td>\n",
       "      <td>manual(m5)</td>\n",
       "      <td>f</td>\n",
       "      <td>21</td>\n",
       "      <td>29</td>\n",
       "      <td>p</td>\n",
       "      <td>compact</td>\n",
       "      <td>25.0</td>\n",
       "    </tr>\n",
       "    <tr>\n",
       "      <th>3</th>\n",
       "      <td>audi</td>\n",
       "      <td>a4</td>\n",
       "      <td>2.0</td>\n",
       "      <td>2008</td>\n",
       "      <td>4</td>\n",
       "      <td>manual(m6)</td>\n",
       "      <td>f</td>\n",
       "      <td>20</td>\n",
       "      <td>31</td>\n",
       "      <td>p</td>\n",
       "      <td>compact</td>\n",
       "      <td>25.5</td>\n",
       "    </tr>\n",
       "    <tr>\n",
       "      <th>4</th>\n",
       "      <td>audi</td>\n",
       "      <td>a4</td>\n",
       "      <td>2.0</td>\n",
       "      <td>2008</td>\n",
       "      <td>4</td>\n",
       "      <td>auto(av)</td>\n",
       "      <td>f</td>\n",
       "      <td>21</td>\n",
       "      <td>30</td>\n",
       "      <td>p</td>\n",
       "      <td>compact</td>\n",
       "      <td>25.5</td>\n",
       "    </tr>\n",
       "    <tr>\n",
       "      <th>5</th>\n",
       "      <td>audi</td>\n",
       "      <td>a4</td>\n",
       "      <td>2.8</td>\n",
       "      <td>1999</td>\n",
       "      <td>6</td>\n",
       "      <td>auto(l5)</td>\n",
       "      <td>f</td>\n",
       "      <td>16</td>\n",
       "      <td>26</td>\n",
       "      <td>p</td>\n",
       "      <td>compact</td>\n",
       "      <td>21.0</td>\n",
       "    </tr>\n",
       "  </tbody>\n",
       "</table>\n",
       "</div>"
      ],
      "text/plain": [
       "  manufacturer model  displ  year  cyl       trans drv  cty  hwy fl    class  \\\n",
       "1         audi    a4    1.8  1999    4    auto(l5)   f   18   29  p  compact   \n",
       "2         audi    a4    1.8  1999    4  manual(m5)   f   21   29  p  compact   \n",
       "3         audi    a4    2.0  2008    4  manual(m6)   f   20   31  p  compact   \n",
       "4         audi    a4    2.0  2008    4    auto(av)   f   21   30  p  compact   \n",
       "5         audi    a4    2.8  1999    6    auto(l5)   f   16   26  p  compact   \n",
       "\n",
       "   average_mileage  \n",
       "1             23.5  \n",
       "2             25.0  \n",
       "3             25.5  \n",
       "4             25.5  \n",
       "5             21.0  "
      ]
     },
     "execution_count": 25,
     "metadata": {},
     "output_type": "execute_result"
    }
   ],
   "source": [
    "mpg['average_mileage'] = (mpg.cty + mpg.hwy)/2\n",
    "mpg.head()"
   ]
  },
  {
   "cell_type": "code",
   "execution_count": 36,
   "id": "cd7449f0",
   "metadata": {},
   "outputs": [],
   "source": [
    "sample_2008 = mpg[mpg['year'] == '2008'].average_mileage\n",
    "sample_1999 = mpg[mpg['year'] == '1999'].average_mileage"
   ]
  },
  {
   "cell_type": "code",
   "execution_count": 38,
   "id": "8de1beba",
   "metadata": {},
   "outputs": [
    {
     "data": {
      "text/plain": [
       "Series([], Name: average_mileage, dtype: float64)"
      ]
     },
     "execution_count": 38,
     "metadata": {},
     "output_type": "execute_result"
    }
   ],
   "source": [
    "sample_1999"
   ]
  },
  {
   "cell_type": "code",
   "execution_count": 37,
   "id": "2f0f15d1",
   "metadata": {},
   "outputs": [
    {
     "data": {
      "text/plain": [
       "(nan, nan)"
      ]
     },
     "execution_count": 37,
     "metadata": {},
     "output_type": "execute_result"
    }
   ],
   "source": [
    "sample_2008.var(), sample_1999.var()"
   ]
  },
  {
   "cell_type": "code",
   "execution_count": 29,
   "id": "fefa4fe8",
   "metadata": {},
   "outputs": [],
   "source": [
    "t, p = stats.ttest_ind(sample_2008,sample_1999, equal_var=False)"
   ]
  },
  {
   "cell_type": "code",
   "execution_count": 30,
   "id": "96172a8a",
   "metadata": {},
   "outputs": [
    {
     "data": {
      "text/plain": [
       "(nan, nan, 0.05)"
      ]
     },
     "execution_count": 30,
     "metadata": {},
     "output_type": "execute_result"
    }
   ],
   "source": [
    "t,p,alpha"
   ]
  },
  {
   "cell_type": "code",
   "execution_count": null,
   "id": "b657ed61",
   "metadata": {},
   "outputs": [],
   "source": []
  },
  {
   "cell_type": "code",
   "execution_count": null,
   "id": "c21efcf0",
   "metadata": {},
   "outputs": [],
   "source": []
  },
  {
   "cell_type": "code",
   "execution_count": null,
   "id": "0661114f",
   "metadata": {},
   "outputs": [],
   "source": []
  }
 ],
 "metadata": {
  "kernelspec": {
   "display_name": "Python 3 (ipykernel)",
   "language": "python",
   "name": "python3"
  },
  "language_info": {
   "codemirror_mode": {
    "name": "ipython",
    "version": 3
   },
   "file_extension": ".py",
   "mimetype": "text/x-python",
   "name": "python",
   "nbconvert_exporter": "python",
   "pygments_lexer": "ipython3",
   "version": "3.9.12"
  }
 },
 "nbformat": 4,
 "nbformat_minor": 5
}
